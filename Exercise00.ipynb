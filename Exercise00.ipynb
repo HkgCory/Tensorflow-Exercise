{
 "cells": [
  {
   "cell_type": "code",
   "execution_count": 1,
   "metadata": {
    "collapsed": true,
    "ExecuteTime": {
     "start_time": "2023-04-09T20:28:34.680663Z",
     "end_time": "2023-04-09T20:28:36.477817Z"
    }
   },
   "outputs": [],
   "source": [
    "import tensorflow as tf\n",
    "import numpy as np\n",
    "import matplotlib.pyplot as plt\n",
    "import os\n"
   ]
  },
  {
   "cell_type": "code",
   "execution_count": 8,
   "outputs": [
    {
     "data": {
      "text/plain": "<tf.Tensor: shape=(), dtype=int32, numpy=1>"
     },
     "execution_count": 8,
     "metadata": {},
     "output_type": "execute_result"
    }
   ],
   "source": [
    "#1. scalar\n",
    "\n",
    "tf.constant(1)\n",
    "tf.rank(tf.constant([1]))"
   ],
   "metadata": {
    "collapsed": false,
    "ExecuteTime": {
     "start_time": "2023-04-09T20:36:24.745584Z",
     "end_time": "2023-04-09T20:36:24.747697Z"
    }
   }
  },
  {
   "cell_type": "code",
   "execution_count": 9,
   "outputs": [
    {
     "name": "stdout",
     "output_type": "stream",
     "text": [
      "vector\n"
     ]
    },
    {
     "data": {
      "text/plain": "<tf.Tensor: shape=(), dtype=int32, numpy=1>"
     },
     "execution_count": 9,
     "metadata": {},
     "output_type": "execute_result"
    }
   ],
   "source": [
    "print('vector')\n",
    "tf.rank(tf.constant([1,2,3]))\n"
   ],
   "metadata": {
    "collapsed": false,
    "ExecuteTime": {
     "start_time": "2023-04-09T20:36:46.179921Z",
     "end_time": "2023-04-09T20:36:46.182726Z"
    }
   }
  },
  {
   "cell_type": "code",
   "execution_count": 27,
   "outputs": [],
   "source": [
    "# Create a scalar\n",
    "a = tf.constant(5)\n",
    "\n",
    "# Create a row vector\n",
    "b = tf.constant([1, 2])\n",
    "\n",
    "# Create a 2x3 matrix\n",
    "c = tf.constant([[1,2],\n",
    "                 [4, 5]])\n",
    "# C_matrix = tf.constant([[1,2],\n",
    "#                         [1,2]])\n",
    "\n",
    "# Create a 3x3x3 tensor\n",
    "d = tf.constant([[[1,2,3],[4,5,6],[7,8,9]],\n",
    "                 [[10,11,12],[13,14,15],[16,17,18]],\n",
    "                 [[19,20,21],[22,23,24],[25,26,27]]])"
   ],
   "metadata": {
    "collapsed": false,
    "ExecuteTime": {
     "start_time": "2023-04-09T20:50:07.692883Z",
     "end_time": "2023-04-09T20:50:07.695461Z"
    }
   }
  },
  {
   "cell_type": "code",
   "execution_count": 15,
   "outputs": [
    {
     "name": "stdout",
     "output_type": "stream",
     "text": [
      "scalar\n",
      "tf.Tensor([], shape=(0,), dtype=int32)\n",
      "tf.Tensor(0, shape=(), dtype=int32)\n",
      "tf.Tensor(1, shape=(), dtype=int32)\n",
      "0\n"
     ]
    }
   ],
   "source": [
    "#2 find shape rank size\n",
    "print('scalar')\n",
    "print(tf.shape(a))\n",
    "print(tf.rank(a))\n",
    "print(tf.size(a))\n",
    "print(a.ndim)"
   ],
   "metadata": {
    "collapsed": false,
    "ExecuteTime": {
     "start_time": "2023-04-09T20:40:55.612620Z",
     "end_time": "2023-04-09T20:40:55.615515Z"
    }
   }
  },
  {
   "cell_type": "code",
   "execution_count": 16,
   "outputs": [
    {
     "name": "stdout",
     "output_type": "stream",
     "text": [
      "vector\n",
      "tf.Tensor([3], shape=(1,), dtype=int32)\n",
      "tf.Tensor(1, shape=(), dtype=int32)\n",
      "tf.Tensor(3, shape=(), dtype=int32)\n",
      "1\n"
     ]
    }
   ],
   "source": [
    "print('vector')\n",
    "print(tf.shape(b))\n",
    "print(tf.rank(b))\n",
    "print(tf.size(b))\n",
    "print(b.ndim)"
   ],
   "metadata": {
    "collapsed": false,
    "ExecuteTime": {
     "start_time": "2023-04-09T20:41:13.368329Z",
     "end_time": "2023-04-09T20:41:13.373194Z"
    }
   }
  },
  {
   "cell_type": "code",
   "execution_count": 19,
   "outputs": [
    {
     "name": "stdout",
     "output_type": "stream",
     "text": [
      "matrix\n",
      "tf.Tensor([2 3 1], shape=(3,), dtype=int32)\n",
      "tf.Tensor(3, shape=(), dtype=int32)\n",
      "tf.Tensor(6, shape=(), dtype=int32)\n",
      "3\n"
     ]
    }
   ],
   "source": [
    "print('matrix')\n",
    "print(tf.shape(c))\n",
    "print(tf.rank(c))\n",
    "print(tf.size(c))\n",
    "print(c.ndim)"
   ],
   "metadata": {
    "collapsed": false,
    "ExecuteTime": {
     "start_time": "2023-04-09T20:43:58.363111Z",
     "end_time": "2023-04-09T20:43:58.365484Z"
    }
   }
  },
  {
   "cell_type": "code",
   "execution_count": 20,
   "outputs": [
    {
     "data": {
      "text/plain": "2"
     },
     "execution_count": 20,
     "metadata": {},
     "output_type": "execute_result"
    }
   ],
   "source": [
    "tf.constant([[2,3],[1,3],[4,5]]).ndim"
   ],
   "metadata": {
    "collapsed": false,
    "ExecuteTime": {
     "start_time": "2023-04-09T20:44:25.446699Z",
     "end_time": "2023-04-09T20:44:25.448244Z"
    }
   }
  },
  {
   "cell_type": "code",
   "execution_count": 21,
   "outputs": [
    {
     "name": "stdout",
     "output_type": "stream",
     "text": [
      "tensor\n",
      "tf.Tensor([3 3 3], shape=(3,), dtype=int32)\n",
      "tf.Tensor(3, shape=(), dtype=int32)\n",
      "tf.Tensor(27, shape=(), dtype=int32)\n",
      "3\n"
     ]
    }
   ],
   "source": [
    "print('tensor')\n",
    "print(tf.shape(d))\n",
    "print(tf.rank(d))\n",
    "print(tf.size(d))\n",
    "print(d.ndim)"
   ],
   "metadata": {
    "collapsed": false,
    "ExecuteTime": {
     "start_time": "2023-04-09T20:44:59.640530Z",
     "end_time": "2023-04-09T20:44:59.642803Z"
    }
   }
  },
  {
   "cell_type": "code",
   "execution_count": null,
   "outputs": [],
   "source": [],
   "metadata": {
    "collapsed": false
   }
  },
  {
   "cell_type": "code",
   "execution_count": 28,
   "outputs": [
    {
     "name": "stdout",
     "output_type": "stream",
     "text": [
      "scalar\n",
      "tf.Tensor([], shape=(0,), dtype=int32)\n",
      "tf.Tensor(0, shape=(), dtype=int32)\n",
      "tf.Tensor(1, shape=(), dtype=int32)\n",
      "0\n",
      "vector\n",
      "tf.Tensor([2], shape=(1,), dtype=int32)\n",
      "tf.Tensor(1, shape=(), dtype=int32)\n",
      "tf.Tensor(2, shape=(), dtype=int32)\n",
      "1\n",
      "matrix\n",
      "tf.Tensor([2 2], shape=(2,), dtype=int32)\n",
      "tf.Tensor(2, shape=(), dtype=int32)\n",
      "tf.Tensor(4, shape=(), dtype=int32)\n",
      "2\n",
      "tensor\n",
      "tf.Tensor([3 3 3], shape=(3,), dtype=int32)\n",
      "tf.Tensor(3, shape=(), dtype=int32)\n",
      "tf.Tensor(27, shape=(), dtype=int32)\n",
      "3\n"
     ]
    }
   ],
   "source": [
    "def shapeRankSize(name,i):\n",
    "    print(name)\n",
    "    print(tf.shape(i))\n",
    "    print(tf.rank(i))\n",
    "    print(tf.size(i))\n",
    "    print(i.ndim)\n",
    "\n",
    "shapeRankSize('scalar',a)\n",
    "shapeRankSize('vector',b)\n",
    "shapeRankSize('matrix',c)\n",
    "shapeRankSize('tensor',d)"
   ],
   "metadata": {
    "collapsed": false,
    "ExecuteTime": {
     "start_time": "2023-04-09T20:50:11.623776Z",
     "end_time": "2023-04-09T20:50:11.629039Z"
    }
   }
  },
  {
   "cell_type": "code",
   "execution_count": 37,
   "outputs": [],
   "source": [
    "# 3.\n",
    "random_a = tf.random.uniform(shape=[5,300], minval=0, maxval=1)\n",
    "random_b = tf.random.uniform(shape=[5,300], minval=0, maxval=1)\n",
    "\n"
   ],
   "metadata": {
    "collapsed": false,
    "ExecuteTime": {
     "start_time": "2023-04-09T21:00:34.128248Z",
     "end_time": "2023-04-09T21:00:34.131470Z"
    }
   }
  },
  {
   "cell_type": "code",
   "execution_count": 30,
   "outputs": [
    {
     "name": "stdout",
     "output_type": "stream",
     "text": [
      "matrix multiplication\n",
      "tf.Tensor(\n",
      "[[79.15422  80.07552  82.78888  79.706696 80.49078 ]\n",
      " [70.55159  76.344765 72.4666   72.055374 74.06755 ]\n",
      " [70.62576  71.46511  72.783875 74.03499  72.75073 ]\n",
      " [72.218994 74.11778  76.942215 75.69386  72.34317 ]\n",
      " [73.06435  77.84204  75.68373  74.750694 74.7875  ]], shape=(5, 5), dtype=float32)\n"
     ]
    }
   ],
   "source": [
    "#4. matrix multiplication\n",
    "print('matrix multiplication')\n",
    "print(tf.matmul(random_a,tf.transpose(random_b)))"
   ],
   "metadata": {
    "collapsed": false,
    "ExecuteTime": {
     "start_time": "2023-04-09T20:53:41.115156Z",
     "end_time": "2023-04-09T20:53:41.121997Z"
    }
   }
  },
  {
   "cell_type": "code",
   "execution_count": 33,
   "outputs": [
    {
     "name": "stdout",
     "output_type": "stream",
     "text": [
      "dot product\n",
      "tf.Tensor(\n",
      "[[79.15422  80.07552  82.78888  79.706696 80.49078 ]\n",
      " [70.55159  76.344765 72.4666   72.055374 74.06755 ]\n",
      " [70.62576  71.46511  72.783875 74.03499  72.75073 ]\n",
      " [72.218994 74.11778  76.942215 75.69386  72.34317 ]\n",
      " [73.06435  77.84204  75.68373  74.750694 74.7875  ]], shape=(5, 5), dtype=float32)\n"
     ]
    }
   ],
   "source": [
    "#5. dot product\n",
    "print('dot product')\n",
    "print(tf.tensordot(random_a,tf.transpose(random_b),axes=1))"
   ],
   "metadata": {
    "collapsed": false,
    "ExecuteTime": {
     "start_time": "2023-04-09T20:58:24.368760Z",
     "end_time": "2023-04-09T20:58:24.372006Z"
    }
   }
  },
  {
   "cell_type": "code",
   "execution_count": 36,
   "outputs": [
    {
     "name": "stdout",
     "output_type": "stream",
     "text": [
      "random\n"
     ]
    }
   ],
   "source": [
    "#6. random\n",
    "print('random')\n",
    "random_c = tf.random.uniform(shape=[224,224,3], minval=0, maxval=1)\n"
   ],
   "metadata": {
    "collapsed": false,
    "ExecuteTime": {
     "start_time": "2023-04-09T21:00:29.847323Z",
     "end_time": "2023-04-09T21:00:29.849577Z"
    }
   }
  },
  {
   "cell_type": "code",
   "execution_count": 35,
   "outputs": [
    {
     "data": {
      "text/plain": "<tf.Tensor: shape=(224, 224, 3), dtype=float32, numpy=\narray([[[0.5684215 , 0.0414027 , 0.46036983],\n        [0.13045597, 0.05508399, 0.15724134],\n        [0.7907293 , 0.77445304, 0.10803139],\n        ...,\n        [0.16297221, 0.30038893, 0.8130729 ],\n        [0.19176471, 0.644577  , 0.2719202 ],\n        [0.95632136, 0.13209355, 0.15459883]],\n\n       [[0.32721806, 0.865283  , 0.49055052],\n        [0.2725327 , 0.5800886 , 0.96008897],\n        [0.9184823 , 0.4497701 , 0.55526924],\n        ...,\n        [0.9588499 , 0.8424953 , 0.97935176],\n        [0.5827732 , 0.07882321, 0.91778517],\n        [0.37766957, 0.1075238 , 0.26397455]],\n\n       [[0.64076805, 0.6201974 , 0.97780573],\n        [0.42302752, 0.9604932 , 0.50878954],\n        [0.16134071, 0.8011068 , 0.26929748],\n        ...,\n        [0.06748581, 0.15849173, 0.52232695],\n        [0.6073512 , 0.98726285, 0.8784766 ],\n        [0.7147387 , 0.83001006, 0.04322493]],\n\n       ...,\n\n       [[0.8099425 , 0.85828316, 0.14818895],\n        [0.08631551, 0.38581848, 0.50149417],\n        [0.7551317 , 0.7897428 , 0.49580526],\n        ...,\n        [0.6874026 , 0.03451145, 0.5434345 ],\n        [0.90963304, 0.02433288, 0.8264353 ],\n        [0.4893391 , 0.40554023, 0.30227816]],\n\n       [[0.40602517, 0.05371761, 0.25593078],\n        [0.96937203, 0.41258347, 0.85082364],\n        [0.16508329, 0.8243779 , 0.94646895],\n        ...,\n        [0.69187737, 0.24877489, 0.5761231 ],\n        [0.1821543 , 0.6018989 , 0.4899156 ],\n        [0.42885065, 0.12413442, 0.47644007]],\n\n       [[0.8851439 , 0.6238463 , 0.6642339 ],\n        [0.77214396, 0.7260288 , 0.170519  ],\n        [0.3367474 , 0.77137244, 0.89542866],\n        ...,\n        [0.5816206 , 0.50119627, 0.2782545 ],\n        [0.10193217, 0.3064022 , 0.59685004],\n        [0.4591378 , 0.02084577, 0.32939065]]], dtype=float32)>"
     },
     "execution_count": 35,
     "metadata": {},
     "output_type": "execute_result"
    }
   ],
   "source": [
    "random_b"
   ],
   "metadata": {
    "collapsed": false,
    "ExecuteTime": {
     "start_time": "2023-04-09T21:00:26.029642Z",
     "end_time": "2023-04-09T21:00:26.032929Z"
    }
   }
  },
  {
   "cell_type": "code",
   "execution_count": 43,
   "outputs": [
    {
     "name": "stdout",
     "output_type": "stream",
     "text": [
      "9.775162e-06\n",
      "0.9987345\n",
      "Minimum value: 9.775162e-06\n",
      "Maximum value: 0.9987345\n"
     ]
    }
   ],
   "source": [
    "min_val = tf.reduce_min(random_b).numpy()\n",
    "max_val = tf.reduce_max(random_b).numpy()\n",
    "\n",
    "print(min_val)\n",
    "print(max_val)\n",
    "print(\"Minimum value:\", min_val)\n",
    "print(\"Maximum value:\", max_val)"
   ],
   "metadata": {
    "collapsed": false,
    "ExecuteTime": {
     "start_time": "2023-04-09T21:07:05.625086Z",
     "end_time": "2023-04-09T21:07:05.630382Z"
    }
   }
  },
  {
   "cell_type": "code",
   "execution_count": 46,
   "outputs": [
    {
     "data": {
      "text/plain": "TensorShape([224, 224, 3])"
     },
     "execution_count": 46,
     "metadata": {},
     "output_type": "execute_result"
    }
   ],
   "source": [
    "#8\n",
    "random_d = tf.random.uniform(shape=[1,224,224,3], minval=0, maxval=1)\n",
    "squeeze_random_d = tf.squeeze(random_d)\n",
    "squeeze_random_d.shape"
   ],
   "metadata": {
    "collapsed": false,
    "ExecuteTime": {
     "start_time": "2023-04-09T21:08:37.951976Z",
     "end_time": "2023-04-09T21:08:37.955903Z"
    }
   }
  },
  {
   "cell_type": "code",
   "execution_count": 51,
   "outputs": [
    {
     "name": "stdout",
     "output_type": "stream",
     "text": [
      "tf.Tensor(\n",
      "[5.425044  3.3633137 8.855714  6.7816353 8.70617   0.5780554 7.632048\n",
      " 3.3284044 9.301047  8.206862 ], shape=(10,), dtype=float32)\n",
      "index 8 has the maximum value\n"
     ]
    }
   ],
   "source": [
    "#9\n",
    "random_5 = tf.random.uniform([10],0,10)\n",
    "print(random_5)\n",
    "print(\"index {} has the maximum value\".format(tf.argmax(random_5).numpy()))\n"
   ],
   "metadata": {
    "collapsed": false,
    "ExecuteTime": {
     "start_time": "2023-04-09T21:12:13.062328Z",
     "end_time": "2023-04-09T21:12:13.065341Z"
    }
   }
  },
  {
   "cell_type": "code",
   "execution_count": 52,
   "outputs": [
    {
     "data": {
      "text/plain": "<tf.Tensor: shape=(10, 10), dtype=string, numpy=\narray([[b'-', b'-', b'-', b'-', b'-', b'|', b'-', b'-', b'-', b'-'],\n       [b'-', b'-', b'-', b'|', b'-', b'-', b'-', b'-', b'-', b'-'],\n       [b'-', b'-', b'-', b'-', b'-', b'-', b'-', b'-', b'|', b'-'],\n       [b'-', b'-', b'-', b'-', b'-', b'-', b'|', b'-', b'-', b'-'],\n       [b'-', b'-', b'-', b'-', b'-', b'-', b'-', b'-', b'|', b'-'],\n       [b'|', b'-', b'-', b'-', b'-', b'-', b'-', b'-', b'-', b'-'],\n       [b'-', b'-', b'-', b'-', b'-', b'-', b'-', b'|', b'-', b'-'],\n       [b'-', b'-', b'-', b'|', b'-', b'-', b'-', b'-', b'-', b'-'],\n       [b'-', b'-', b'-', b'-', b'-', b'-', b'-', b'-', b'-', b'|'],\n       [b'-', b'-', b'-', b'-', b'-', b'-', b'-', b'-', b'|', b'-']],\n      dtype=object)>"
     },
     "execution_count": 52,
     "metadata": {},
     "output_type": "execute_result"
    }
   ],
   "source": [
    "tf.one_hot(tf.cast(random_5.numpy().tolist(),tf.int32),depth=tf.size(random_5).numpy(),on_value=\"|\",off_value=\"-\")\n"
   ],
   "metadata": {
    "collapsed": false,
    "ExecuteTime": {
     "start_time": "2023-04-09T21:28:36.422240Z",
     "end_time": "2023-04-09T21:28:36.434972Z"
    }
   }
  },
  {
   "cell_type": "code",
   "execution_count": null,
   "outputs": [],
   "source": [],
   "metadata": {
    "collapsed": false
   }
  },
  {
   "cell_type": "code",
   "execution_count": null,
   "outputs": [],
   "source": [],
   "metadata": {
    "collapsed": false
   }
  }
 ],
 "metadata": {
  "kernelspec": {
   "display_name": "Python 3",
   "language": "python",
   "name": "python3"
  },
  "language_info": {
   "codemirror_mode": {
    "name": "ipython",
    "version": 2
   },
   "file_extension": ".py",
   "mimetype": "text/x-python",
   "name": "python",
   "nbconvert_exporter": "python",
   "pygments_lexer": "ipython2",
   "version": "2.7.6"
  }
 },
 "nbformat": 4,
 "nbformat_minor": 0
}
