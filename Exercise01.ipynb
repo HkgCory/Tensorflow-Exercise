{
 "cells": [
  {
   "cell_type": "code",
   "execution_count": 1,
   "metadata": {
    "collapsed": true,
    "ExecuteTime": {
     "start_time": "2023-04-10T19:57:59.956163Z",
     "end_time": "2023-04-10T19:58:01.744677Z"
    }
   },
   "outputs": [],
   "source": [
    "import tensorflow as tf\n",
    "import numpy as np\n",
    "import matplotlib.pyplot as plt"
   ]
  },
  {
   "cell_type": "code",
   "execution_count": 2,
   "outputs": [],
   "source": [
    "X = tf.range(-100,100,4)\n",
    "y = X + 10"
   ],
   "metadata": {
    "collapsed": false,
    "ExecuteTime": {
     "start_time": "2023-04-10T19:58:25.110178Z",
     "end_time": "2023-04-10T19:58:25.114575Z"
    }
   }
  },
  {
   "cell_type": "code",
   "execution_count": 3,
   "outputs": [
    {
     "data": {
      "text/plain": "<matplotlib.collections.PathCollection at 0x1511f56c0>"
     },
     "execution_count": 3,
     "metadata": {},
     "output_type": "execute_result"
    },
    {
     "data": {
      "text/plain": "<Figure size 640x480 with 1 Axes>",
      "image/png": "[encoded data removed]"
     },
     "metadata": {},
     "output_type": "display_data"
    }
   ],
   "source": [
    "plt.scatter(X,y)"
   ],
   "metadata": {
    "collapsed": false,
    "ExecuteTime": {
     "start_time": "2023-04-10T19:58:32.596745Z",
     "end_time": "2023-04-10T19:58:32.727995Z"
    }
   }
  },
  {
   "cell_type": "code",
   "execution_count": 4,
   "outputs": [
    {
     "data": {
      "text/plain": "(<tf.Tensor: shape=(50,), dtype=int32, numpy=\n array([-100,  -96,  -92,  -88,  -84,  -80,  -76,  -72,  -68,  -64,  -60,\n         -56,  -52,  -48,  -44,  -40,  -36,  -32,  -28,  -24,  -20,  -16,\n         -12,   -8,   -4,    0,    4,    8,   12,   16,   20,   24,   28,\n          32,   36,   40,   44,   48,   52,   56,   60,   64,   68,   72,\n          76,   80,   84,   88,   92,   96], dtype=int32)>,\n <tf.Tensor: shape=(50,), dtype=int32, numpy=\n array([-90, -86, -82, -78, -74, -70, -66, -62, -58, -54, -50, -46, -42,\n        -38, -34, -30, -26, -22, -18, -14, -10,  -6,  -2,   2,   6,  10,\n         14,  18,  22,  26,  30,  34,  38,  42,  46,  50,  54,  58,  62,\n         66,  70,  74,  78,  82,  86,  90,  94,  98, 102, 106], dtype=int32)>)"
     },
     "execution_count": 4,
     "metadata": {},
     "output_type": "execute_result"
    }
   ],
   "source": [
    "X,y"
   ],
   "metadata": {
    "collapsed": false,
    "ExecuteTime": {
     "start_time": "2023-04-10T19:58:46.143466Z",
     "end_time": "2023-04-10T19:58:46.146647Z"
    }
   }
  },
  {
   "cell_type": "code",
   "execution_count": 6,
   "outputs": [],
   "source": [
    "X_train = X[:40]\n",
    "y_train = y[:40]\n",
    "X_test = X[40:]\n",
    "y_test = y[40:]\n"
   ],
   "metadata": {
    "collapsed": false,
    "ExecuteTime": {
     "start_time": "2023-04-10T20:00:26.006978Z",
     "end_time": "2023-04-10T20:00:26.010706Z"
    }
   }
  },
  {
   "cell_type": "code",
   "execution_count": 10,
   "outputs": [
    {
     "name": "stdout",
     "output_type": "stream",
     "text": [
      "Epoch 1/100\n",
      "2/2 [==============================] - 0s 995us/step - loss: 40.8315 - mae: 40.8315\n",
      "Epoch 2/100\n",
      "2/2 [==============================] - 0s 825us/step - loss: 37.6038 - mae: 37.6038\n",
      "Epoch 3/100\n",
      "2/2 [==============================] - 0s 835us/step - loss: 34.6149 - mae: 34.6149\n",
      "Epoch 4/100\n",
      "2/2 [==============================] - 0s 746us/step - loss: 31.5367 - mae: 31.5367\n",
      "Epoch 5/100\n",
      "2/2 [==============================] - 0s 781us/step - loss: 28.5986 - mae: 28.5986\n",
      "Epoch 6/100\n",
      "2/2 [==============================] - 0s 863us/step - loss: 26.0573 - mae: 26.0573\n",
      "Epoch 7/100\n",
      "2/2 [==============================] - 0s 956us/step - loss: 23.2349 - mae: 23.2349\n",
      "Epoch 8/100\n",
      "2/2 [==============================] - 0s 688us/step - loss: 20.9089 - mae: 20.9089\n",
      "Epoch 9/100\n",
      "2/2 [==============================] - 0s 815us/step - loss: 19.0798 - mae: 19.0798\n",
      "Epoch 10/100\n",
      "2/2 [==============================] - 0s 826us/step - loss: 17.3321 - mae: 17.3321\n",
      "Epoch 11/100\n",
      "2/2 [==============================] - 0s 833us/step - loss: 15.5300 - mae: 15.5300\n",
      "Epoch 12/100\n",
      "2/2 [==============================] - 0s 809us/step - loss: 13.8839 - mae: 13.8839\n",
      "Epoch 13/100\n",
      "2/2 [==============================] - 0s 778us/step - loss: 12.5642 - mae: 12.5642\n",
      "Epoch 14/100\n",
      "2/2 [==============================] - 0s 619us/step - loss: 11.2033 - mae: 11.2033\n",
      "Epoch 15/100\n",
      "2/2 [==============================] - 0s 971us/step - loss: 10.0657 - mae: 10.0657\n",
      "Epoch 16/100\n",
      "2/2 [==============================] - 0s 846us/step - loss: 9.1478 - mae: 9.1478\n",
      "Epoch 17/100\n",
      "2/2 [==============================] - 0s 802us/step - loss: 8.3364 - mae: 8.3364\n",
      "Epoch 18/100\n",
      "2/2 [==============================] - 0s 985us/step - loss: 7.8997 - mae: 7.8997\n",
      "Epoch 19/100\n",
      "2/2 [==============================] - 0s 899us/step - loss: 7.7800 - mae: 7.7800\n",
      "Epoch 20/100\n",
      "2/2 [==============================] - 0s 864us/step - loss: 7.6375 - mae: 7.6375\n",
      "Epoch 21/100\n",
      "2/2 [==============================] - 0s 864us/step - loss: 7.6188 - mae: 7.6188\n",
      "Epoch 22/100\n",
      "2/2 [==============================] - 0s 745us/step - loss: 7.6159 - mae: 7.6159\n",
      "Epoch 23/100\n",
      "2/2 [==============================] - 0s 835us/step - loss: 7.6390 - mae: 7.6390\n",
      "Epoch 24/100\n",
      "2/2 [==============================] - 0s 692us/step - loss: 7.7072 - mae: 7.7072\n",
      "Epoch 25/100\n",
      "2/2 [==============================] - 0s 778us/step - loss: 7.6434 - mae: 7.6434\n",
      "Epoch 26/100\n",
      "2/2 [==============================] - 0s 813us/step - loss: 7.6954 - mae: 7.6954\n",
      "Epoch 27/100\n",
      "2/2 [==============================] - 0s 849us/step - loss: 7.9531 - mae: 7.9531\n",
      "Epoch 28/100\n",
      "2/2 [==============================] - 0s 754us/step - loss: 7.6291 - mae: 7.6291\n",
      "Epoch 29/100\n",
      "2/2 [==============================] - 0s 599us/step - loss: 7.6169 - mae: 7.6169\n",
      "Epoch 30/100\n",
      "2/2 [==============================] - 0s 1ms/step - loss: 7.6375 - mae: 7.6375\n",
      "Epoch 31/100\n",
      "2/2 [==============================] - 0s 848us/step - loss: 7.6008 - mae: 7.6008\n",
      "Epoch 32/100\n",
      "2/2 [==============================] - 0s 829us/step - loss: 7.6122 - mae: 7.6122\n",
      "Epoch 33/100\n",
      "2/2 [==============================] - 0s 659us/step - loss: 7.6704 - mae: 7.6704\n",
      "Epoch 34/100\n",
      "2/2 [==============================] - 0s 688us/step - loss: 7.5986 - mae: 7.5986\n",
      "Epoch 35/100\n",
      "2/2 [==============================] - 0s 773us/step - loss: 7.6334 - mae: 7.6334\n",
      "Epoch 36/100\n",
      "2/2 [==============================] - 0s 897us/step - loss: 7.7600 - mae: 7.7600\n",
      "Epoch 37/100\n",
      "2/2 [==============================] - 0s 840us/step - loss: 7.6337 - mae: 7.6337\n",
      "Epoch 38/100\n",
      "2/2 [==============================] - 0s 681us/step - loss: 7.6135 - mae: 7.6135\n",
      "Epoch 39/100\n",
      "2/2 [==============================] - 0s 619us/step - loss: 7.6019 - mae: 7.6019\n",
      "Epoch 40/100\n",
      "2/2 [==============================] - 0s 799us/step - loss: 7.6414 - mae: 7.6414\n",
      "Epoch 41/100\n",
      "2/2 [==============================] - 0s 555us/step - loss: 7.7093 - mae: 7.7093\n",
      "Epoch 42/100\n",
      "2/2 [==============================] - 0s 710us/step - loss: 8.0961 - mae: 8.0961\n",
      "Epoch 43/100\n",
      "2/2 [==============================] - 0s 749us/step - loss: 7.6345 - mae: 7.6345\n",
      "Epoch 44/100\n",
      "2/2 [==============================] - 0s 860us/step - loss: 7.6339 - mae: 7.6339\n",
      "Epoch 45/100\n",
      "2/2 [==============================] - 0s 766us/step - loss: 7.5853 - mae: 7.5853\n",
      "Epoch 46/100\n",
      "2/2 [==============================] - 0s 758us/step - loss: 7.5836 - mae: 7.5836\n",
      "Epoch 47/100\n",
      "2/2 [==============================] - 0s 664us/step - loss: 7.5808 - mae: 7.5808\n",
      "Epoch 48/100\n",
      "2/2 [==============================] - 0s 708us/step - loss: 7.5888 - mae: 7.5888\n",
      "Epoch 49/100\n",
      "2/2 [==============================] - 0s 1ms/step - loss: 7.5932 - mae: 7.5932\n",
      "Epoch 50/100\n",
      "2/2 [==============================] - 0s 777us/step - loss: 7.5853 - mae: 7.5853\n",
      "Epoch 51/100\n",
      "2/2 [==============================] - 0s 822us/step - loss: 7.6050 - mae: 7.6050\n",
      "Epoch 52/100\n",
      "2/2 [==============================] - 0s 767us/step - loss: 8.2011 - mae: 8.2011\n",
      "Epoch 53/100\n",
      "2/2 [==============================] - 0s 815us/step - loss: 7.6639 - mae: 7.6639\n",
      "Epoch 54/100\n",
      "2/2 [==============================] - 0s 977us/step - loss: 7.6992 - mae: 7.6992\n",
      "Epoch 55/100\n",
      "2/2 [==============================] - 0s 874us/step - loss: 7.6503 - mae: 7.6503\n",
      "Epoch 56/100\n",
      "2/2 [==============================] - 0s 708us/step - loss: 7.7012 - mae: 7.7012\n",
      "Epoch 57/100\n",
      "2/2 [==============================] - 0s 851us/step - loss: 7.6205 - mae: 7.6205\n",
      "Epoch 58/100\n",
      "2/2 [==============================] - 0s 857us/step - loss: 7.7783 - mae: 7.7783\n",
      "Epoch 59/100\n",
      "2/2 [==============================] - 0s 716us/step - loss: 7.6872 - mae: 7.6872\n",
      "Epoch 60/100\n",
      "2/2 [==============================] - 0s 763us/step - loss: 7.6656 - mae: 7.6656\n",
      "Epoch 61/100\n",
      "2/2 [==============================] - 0s 736us/step - loss: 7.6075 - mae: 7.6075\n",
      "Epoch 62/100\n",
      "2/2 [==============================] - 0s 870us/step - loss: 7.5702 - mae: 7.5702\n",
      "Epoch 63/100\n",
      "2/2 [==============================] - 0s 765us/step - loss: 7.6278 - mae: 7.6278\n",
      "Epoch 64/100\n",
      "2/2 [==============================] - 0s 966us/step - loss: 7.5863 - mae: 7.5863\n",
      "Epoch 65/100\n",
      "2/2 [==============================] - 0s 616us/step - loss: 7.6305 - mae: 7.6305\n",
      "Epoch 66/100\n",
      "2/2 [==============================] - 0s 710us/step - loss: 7.5788 - mae: 7.5788\n",
      "Epoch 67/100\n",
      "2/2 [==============================] - 0s 770us/step - loss: 7.6703 - mae: 7.6703\n",
      "Epoch 68/100\n",
      "2/2 [==============================] - 0s 579us/step - loss: 7.5897 - mae: 7.5897\n",
      "Epoch 69/100\n",
      "2/2 [==============================] - 0s 715us/step - loss: 7.8427 - mae: 7.8427\n",
      "Epoch 70/100\n",
      "2/2 [==============================] - 0s 594us/step - loss: 7.6636 - mae: 7.6636\n",
      "Epoch 71/100\n",
      "2/2 [==============================] - 0s 870us/step - loss: 7.5540 - mae: 7.5540\n",
      "Epoch 72/100\n",
      "2/2 [==============================] - 0s 864us/step - loss: 7.5636 - mae: 7.5636\n",
      "Epoch 73/100\n",
      "2/2 [==============================] - 0s 788us/step - loss: 7.5719 - mae: 7.5719\n",
      "Epoch 74/100\n",
      "2/2 [==============================] - 0s 774us/step - loss: 7.6201 - mae: 7.6201\n",
      "Epoch 75/100\n",
      "2/2 [==============================] - 0s 582us/step - loss: 7.6361 - mae: 7.6361\n",
      "Epoch 76/100\n",
      "2/2 [==============================] - 0s 826us/step - loss: 7.6628 - mae: 7.6628\n",
      "Epoch 77/100\n",
      "2/2 [==============================] - 0s 757us/step - loss: 7.6450 - mae: 7.6450\n",
      "Epoch 78/100\n",
      "2/2 [==============================] - 0s 697us/step - loss: 7.6887 - mae: 7.6887\n",
      "Epoch 79/100\n",
      "2/2 [==============================] - 0s 809us/step - loss: 7.5493 - mae: 7.5493\n",
      "Epoch 80/100\n",
      "2/2 [==============================] - 0s 772us/step - loss: 7.5461 - mae: 7.5461\n",
      "Epoch 81/100\n",
      "2/2 [==============================] - 0s 809us/step - loss: 7.5690 - mae: 7.5690\n",
      "Epoch 82/100\n",
      "2/2 [==============================] - 0s 565us/step - loss: 7.6201 - mae: 7.6201\n",
      "Epoch 83/100\n",
      "2/2 [==============================] - 0s 663us/step - loss: 8.1259 - mae: 8.1259\n",
      "Epoch 84/100\n",
      "2/2 [==============================] - 0s 704us/step - loss: 7.6135 - mae: 7.6135\n",
      "Epoch 85/100\n",
      "2/2 [==============================] - 0s 681us/step - loss: 7.6312 - mae: 7.6312\n",
      "Epoch 86/100\n",
      "2/2 [==============================] - 0s 835us/step - loss: 7.5830 - mae: 7.5830\n",
      "Epoch 87/100\n",
      "2/2 [==============================] - 0s 699us/step - loss: 7.5556 - mae: 7.5556\n",
      "Epoch 88/100\n",
      "2/2 [==============================] - 0s 810us/step - loss: 7.5640 - mae: 7.5640\n",
      "Epoch 89/100\n",
      "2/2 [==============================] - 0s 819us/step - loss: 7.5659 - mae: 7.5659\n",
      "Epoch 90/100\n",
      "2/2 [==============================] - 0s 649us/step - loss: 7.6023 - mae: 7.6023\n",
      "Epoch 91/100\n",
      "2/2 [==============================] - 0s 621us/step - loss: 7.6729 - mae: 7.6729\n",
      "Epoch 92/100\n",
      "2/2 [==============================] - 0s 755us/step - loss: 7.6145 - mae: 7.6145\n",
      "Epoch 93/100\n",
      "2/2 [==============================] - 0s 820us/step - loss: 7.5683 - mae: 7.5683\n",
      "Epoch 94/100\n",
      "2/2 [==============================] - 0s 598us/step - loss: 7.5321 - mae: 7.5321\n",
      "Epoch 95/100\n",
      "2/2 [==============================] - 0s 908us/step - loss: 7.5247 - mae: 7.5247\n",
      "Epoch 96/100\n",
      "2/2 [==============================] - 0s 744us/step - loss: 7.5291 - mae: 7.5291\n",
      "Epoch 97/100\n",
      "2/2 [==============================] - 0s 661us/step - loss: 7.5255 - mae: 7.5255\n",
      "Epoch 98/100\n",
      "2/2 [==============================] - 0s 644us/step - loss: 7.5278 - mae: 7.5278\n",
      "Epoch 99/100\n",
      "2/2 [==============================] - 0s 642us/step - loss: 7.5198 - mae: 7.5198\n",
      "Epoch 100/100\n",
      "2/2 [==============================] - 0s 737us/step - loss: 7.5792 - mae: 7.5792\n"
     ]
    },
    {
     "data": {
      "text/plain": "<keras.callbacks.History at 0x153175870>"
     },
     "execution_count": 10,
     "metadata": {},
     "output_type": "execute_result"
    }
   ],
   "source": [
    "model_1 = tf.keras.Sequential([\n",
    "    tf.keras.layers.Dense(10)\n",
    "])\n",
    "\n",
    "model_1.compile(loss=tf.keras.losses.mae,\n",
    "                optimizer=tf.keras.optimizers.SGD(),\n",
    "                metrics=[\"mae\"])\n",
    "\n",
    "model_1.fit(tf.expand_dims(X_train, axis=1),y_train,epochs=100)"
   ],
   "metadata": {
    "collapsed": false,
    "ExecuteTime": {
     "start_time": "2023-04-10T20:02:29.827330Z",
     "end_time": "2023-04-10T20:02:30.138477Z"
    }
   }
  },
  {
   "cell_type": "code",
   "execution_count": 11,
   "outputs": [
    {
     "name": "stdout",
     "output_type": "stream",
     "text": [
      "Model: \"sequential_3\"\n",
      "_________________________________________________________________\n",
      " Layer (type)                Output Shape              Param #   \n",
      "=================================================================\n",
      " dense_3 (Dense)             (None, 10)                20        \n",
      "                                                                 \n",
      "=================================================================\n",
      "Total params: 20\n",
      "Trainable params: 20\n",
      "Non-trainable params: 0\n",
      "_________________________________________________________________\n"
     ]
    }
   ],
   "source": [
    "model_1.summary()"
   ],
   "metadata": {
    "collapsed": false,
    "ExecuteTime": {
     "start_time": "2023-04-10T20:02:46.207178Z",
     "end_time": "2023-04-10T20:02:46.214361Z"
    }
   }
  },
  {
   "cell_type": "code",
   "execution_count": 12,
   "outputs": [
    {
     "name": "stdout",
     "output_type": "stream",
     "text": [
      "Epoch 1/100\n",
      "2/2 [==============================] - 0s 1ms/step - loss: 45.3400 - mae: 45.3400\n",
      "Epoch 2/100\n",
      "2/2 [==============================] - 0s 968us/step - loss: 40.0959 - mae: 40.0959\n",
      "Epoch 3/100\n",
      "2/2 [==============================] - 0s 960us/step - loss: 34.7106 - mae: 34.7106\n",
      "Epoch 4/100\n",
      "2/2 [==============================] - 0s 904us/step - loss: 29.3954 - mae: 29.3954\n",
      "Epoch 5/100\n",
      "2/2 [==============================] - 0s 871us/step - loss: 23.7659 - mae: 23.7659\n",
      "Epoch 6/100\n",
      "2/2 [==============================] - 0s 968us/step - loss: 18.6681 - mae: 18.6681\n",
      "Epoch 7/100\n",
      "2/2 [==============================] - 0s 999us/step - loss: 13.4684 - mae: 13.4684\n",
      "Epoch 8/100\n",
      "2/2 [==============================] - 0s 836us/step - loss: 9.0602 - mae: 9.0602\n",
      "Epoch 9/100\n",
      "2/2 [==============================] - 0s 887us/step - loss: 9.0128 - mae: 9.0128\n",
      "Epoch 10/100\n",
      "2/2 [==============================] - 0s 831us/step - loss: 10.4046 - mae: 10.4046\n",
      "Epoch 11/100\n",
      "2/2 [==============================] - 0s 718us/step - loss: 11.1453 - mae: 11.1453\n",
      "Epoch 12/100\n",
      "2/2 [==============================] - 0s 911us/step - loss: 11.3442 - mae: 11.3442\n",
      "Epoch 13/100\n",
      "2/2 [==============================] - 0s 741us/step - loss: 10.9950 - mae: 10.9950\n",
      "Epoch 14/100\n",
      "2/2 [==============================] - 0s 884us/step - loss: 10.0833 - mae: 10.0833\n",
      "Epoch 15/100\n",
      "2/2 [==============================] - 0s 931us/step - loss: 8.9739 - mae: 8.9739\n",
      "Epoch 16/100\n",
      "2/2 [==============================] - 0s 877us/step - loss: 7.5369 - mae: 7.5369\n",
      "Epoch 17/100\n",
      "2/2 [==============================] - 0s 910us/step - loss: 8.1012 - mae: 8.1012\n",
      "Epoch 18/100\n",
      "2/2 [==============================] - 0s 922us/step - loss: 8.8299 - mae: 8.8299\n",
      "Epoch 19/100\n",
      "2/2 [==============================] - 0s 855us/step - loss: 8.9749 - mae: 8.9749\n",
      "Epoch 20/100\n",
      "2/2 [==============================] - 0s 823us/step - loss: 8.4601 - mae: 8.4601\n",
      "Epoch 21/100\n",
      "2/2 [==============================] - 0s 822us/step - loss: 7.6024 - mae: 7.6024\n",
      "Epoch 22/100\n",
      "2/2 [==============================] - 0s 875us/step - loss: 7.4513 - mae: 7.4513\n",
      "Epoch 23/100\n",
      "2/2 [==============================] - 0s 804us/step - loss: 8.0363 - mae: 8.0363\n",
      "Epoch 24/100\n",
      "2/2 [==============================] - 0s 819us/step - loss: 8.1964 - mae: 8.1964\n",
      "Epoch 25/100\n",
      "2/2 [==============================] - 0s 969us/step - loss: 7.8714 - mae: 7.8714\n",
      "Epoch 26/100\n",
      "2/2 [==============================] - 0s 974us/step - loss: 7.3056 - mae: 7.3056\n",
      "Epoch 27/100\n",
      "2/2 [==============================] - 0s 875us/step - loss: 7.4510 - mae: 7.4510\n",
      "Epoch 28/100\n",
      "2/2 [==============================] - 0s 980us/step - loss: 7.4817 - mae: 7.4817\n",
      "Epoch 29/100\n",
      "2/2 [==============================] - 0s 922us/step - loss: 7.2678 - mae: 7.2678\n",
      "Epoch 30/100\n",
      "2/2 [==============================] - 0s 800us/step - loss: 7.0434 - mae: 7.0434\n",
      "Epoch 31/100\n",
      "2/2 [==============================] - 0s 990us/step - loss: 7.1515 - mae: 7.1515\n",
      "Epoch 32/100\n",
      "2/2 [==============================] - 0s 921us/step - loss: 7.3065 - mae: 7.3065\n",
      "Epoch 33/100\n",
      "2/2 [==============================] - 0s 820us/step - loss: 7.0224 - mae: 7.0224\n",
      "Epoch 34/100\n",
      "2/2 [==============================] - 0s 1ms/step - loss: 6.9831 - mae: 6.9831\n",
      "Epoch 35/100\n",
      "2/2 [==============================] - 0s 871us/step - loss: 7.2917 - mae: 7.2917\n",
      "Epoch 36/100\n",
      "2/2 [==============================] - 0s 892us/step - loss: 7.2402 - mae: 7.2402\n",
      "Epoch 37/100\n",
      "2/2 [==============================] - 0s 844us/step - loss: 6.9122 - mae: 6.9122\n",
      "Epoch 38/100\n",
      "2/2 [==============================] - 0s 828us/step - loss: 6.9063 - mae: 6.9063\n",
      "Epoch 39/100\n",
      "2/2 [==============================] - 0s 867us/step - loss: 7.1513 - mae: 7.1513\n",
      "Epoch 40/100\n",
      "2/2 [==============================] - 0s 741us/step - loss: 6.9758 - mae: 6.9758\n",
      "Epoch 41/100\n",
      "2/2 [==============================] - 0s 671us/step - loss: 6.7026 - mae: 6.7026\n",
      "Epoch 42/100\n",
      "2/2 [==============================] - 0s 903us/step - loss: 6.7140 - mae: 6.7140\n",
      "Epoch 43/100\n",
      "2/2 [==============================] - 0s 1ms/step - loss: 6.8001 - mae: 6.8001\n",
      "Epoch 44/100\n",
      "2/2 [==============================] - 0s 886us/step - loss: 6.7072 - mae: 6.7072\n",
      "Epoch 45/100\n",
      "2/2 [==============================] - 0s 922us/step - loss: 6.5949 - mae: 6.5949\n",
      "Epoch 46/100\n",
      "2/2 [==============================] - 0s 797us/step - loss: 6.5476 - mae: 6.5476\n",
      "Epoch 47/100\n",
      "2/2 [==============================] - 0s 743us/step - loss: 6.4705 - mae: 6.4705\n",
      "Epoch 48/100\n",
      "2/2 [==============================] - 0s 856us/step - loss: 6.4562 - mae: 6.4562\n",
      "Epoch 49/100\n",
      "2/2 [==============================] - 0s 842us/step - loss: 6.6191 - mae: 6.6191\n",
      "Epoch 50/100\n",
      "2/2 [==============================] - 0s 829us/step - loss: 6.6466 - mae: 6.6466\n",
      "Epoch 51/100\n",
      "2/2 [==============================] - 0s 792us/step - loss: 6.4512 - mae: 6.4512\n",
      "Epoch 52/100\n",
      "2/2 [==============================] - 0s 899us/step - loss: 6.3066 - mae: 6.3066\n",
      "Epoch 53/100\n",
      "2/2 [==============================] - 0s 900us/step - loss: 6.3263 - mae: 6.3263\n",
      "Epoch 54/100\n",
      "2/2 [==============================] - 0s 883us/step - loss: 6.3954 - mae: 6.3954\n",
      "Epoch 55/100\n",
      "2/2 [==============================] - 0s 803us/step - loss: 6.1651 - mae: 6.1651\n",
      "Epoch 56/100\n",
      "2/2 [==============================] - 0s 772us/step - loss: 6.1911 - mae: 6.1911\n",
      "Epoch 57/100\n",
      "2/2 [==============================] - 0s 884us/step - loss: 6.3558 - mae: 6.3558\n",
      "Epoch 58/100\n",
      "2/2 [==============================] - 0s 909us/step - loss: 6.1411 - mae: 6.1411\n",
      "Epoch 59/100\n",
      "2/2 [==============================] - 0s 801us/step - loss: 6.0898 - mae: 6.0898\n",
      "Epoch 60/100\n",
      "2/2 [==============================] - 0s 815us/step - loss: 6.3963 - mae: 6.3963\n",
      "Epoch 61/100\n",
      "2/2 [==============================] - 0s 830us/step - loss: 6.0433 - mae: 6.0433\n",
      "Epoch 62/100\n",
      "2/2 [==============================] - 0s 892us/step - loss: 6.0700 - mae: 6.0700\n",
      "Epoch 63/100\n",
      "2/2 [==============================] - 0s 807us/step - loss: 6.6072 - mae: 6.6072\n",
      "Epoch 64/100\n",
      "2/2 [==============================] - 0s 898us/step - loss: 6.5408 - mae: 6.5408\n",
      "Epoch 65/100\n",
      "2/2 [==============================] - 0s 772us/step - loss: 5.9301 - mae: 5.9301\n",
      "Epoch 66/100\n",
      "2/2 [==============================] - 0s 937us/step - loss: 5.8712 - mae: 5.8712\n",
      "Epoch 67/100\n",
      "2/2 [==============================] - 0s 699us/step - loss: 6.0397 - mae: 6.0397\n",
      "Epoch 68/100\n",
      "2/2 [==============================] - 0s 681us/step - loss: 5.6957 - mae: 5.6957\n",
      "Epoch 69/100\n",
      "2/2 [==============================] - 0s 2ms/step - loss: 5.7040 - mae: 5.7040\n",
      "Epoch 70/100\n",
      "2/2 [==============================] - 0s 809us/step - loss: 5.8238 - mae: 5.8238\n",
      "Epoch 71/100\n",
      "2/2 [==============================] - 0s 823us/step - loss: 5.6698 - mae: 5.6698\n",
      "Epoch 72/100\n",
      "2/2 [==============================] - 0s 1ms/step - loss: 5.4742 - mae: 5.4742\n",
      "Epoch 73/100\n",
      "2/2 [==============================] - 0s 891us/step - loss: 5.5066 - mae: 5.5066\n",
      "Epoch 74/100\n",
      "2/2 [==============================] - 0s 814us/step - loss: 5.3992 - mae: 5.3992\n",
      "Epoch 75/100\n",
      "2/2 [==============================] - 0s 931us/step - loss: 5.3861 - mae: 5.3861\n",
      "Epoch 76/100\n",
      "2/2 [==============================] - 0s 817us/step - loss: 5.3053 - mae: 5.3053\n",
      "Epoch 77/100\n",
      "2/2 [==============================] - 0s 794us/step - loss: 5.2974 - mae: 5.2974\n",
      "Epoch 78/100\n",
      "2/2 [==============================] - 0s 790us/step - loss: 5.2980 - mae: 5.2980\n",
      "Epoch 79/100\n",
      "2/2 [==============================] - 0s 865us/step - loss: 5.1753 - mae: 5.1753\n",
      "Epoch 80/100\n",
      "2/2 [==============================] - 0s 801us/step - loss: 5.2235 - mae: 5.2235\n",
      "Epoch 81/100\n",
      "2/2 [==============================] - 0s 824us/step - loss: 5.1788 - mae: 5.1788\n",
      "Epoch 82/100\n",
      "2/2 [==============================] - 0s 880us/step - loss: 5.0257 - mae: 5.0257\n",
      "Epoch 83/100\n",
      "2/2 [==============================] - 0s 881us/step - loss: 4.9571 - mae: 4.9571\n",
      "Epoch 84/100\n",
      "2/2 [==============================] - 0s 1ms/step - loss: 4.9381 - mae: 4.9381\n",
      "Epoch 85/100\n",
      "2/2 [==============================] - 0s 655us/step - loss: 4.8860 - mae: 4.8860\n",
      "Epoch 86/100\n",
      "2/2 [==============================] - 0s 1ms/step - loss: 4.8094 - mae: 4.8094\n",
      "Epoch 87/100\n",
      "2/2 [==============================] - 0s 904us/step - loss: 4.7387 - mae: 4.7387\n",
      "Epoch 88/100\n",
      "2/2 [==============================] - 0s 880us/step - loss: 4.6775 - mae: 4.6775\n",
      "Epoch 89/100\n",
      "2/2 [==============================] - 0s 821us/step - loss: 4.6157 - mae: 4.6157\n",
      "Epoch 90/100\n",
      "2/2 [==============================] - 0s 1ms/step - loss: 4.5680 - mae: 4.5680\n",
      "Epoch 91/100\n",
      "2/2 [==============================] - 0s 2ms/step - loss: 4.4999 - mae: 4.4999\n",
      "Epoch 92/100\n",
      "2/2 [==============================] - 0s 786us/step - loss: 4.4439 - mae: 4.4439\n",
      "Epoch 93/100\n",
      "2/2 [==============================] - 0s 858us/step - loss: 4.3703 - mae: 4.3703\n",
      "Epoch 94/100\n",
      "2/2 [==============================] - 0s 819us/step - loss: 4.3451 - mae: 4.3451\n",
      "Epoch 95/100\n",
      "2/2 [==============================] - 0s 745us/step - loss: 4.2529 - mae: 4.2529\n",
      "Epoch 96/100\n",
      "2/2 [==============================] - 0s 660us/step - loss: 4.2716 - mae: 4.2716\n",
      "Epoch 97/100\n",
      "2/2 [==============================] - 0s 807us/step - loss: 4.1558 - mae: 4.1558\n",
      "Epoch 98/100\n",
      "2/2 [==============================] - 0s 927us/step - loss: 4.1772 - mae: 4.1772\n",
      "Epoch 99/100\n",
      "2/2 [==============================] - 0s 683us/step - loss: 3.9663 - mae: 3.9663\n",
      "Epoch 100/100\n",
      "2/2 [==============================] - 0s 754us/step - loss: 4.1294 - mae: 4.1294\n"
     ]
    },
    {
     "data": {
      "text/plain": "<keras.callbacks.History at 0x1533467d0>"
     },
     "execution_count": 12,
     "metadata": {},
     "output_type": "execute_result"
    }
   ],
   "source": [
    "model_2 = tf.keras.Sequential([\n",
    "    tf.keras.layers.Dense(100),\n",
    "    tf.keras.layers.Dense(10),\n",
    "    tf.keras.layers.Dense(10),\n",
    "    tf.keras.layers.Dense(1)\n",
    "])\n",
    "\n",
    "model_2.compile(loss='mae',\n",
    "                optimizer='Adam',\n",
    "                metrics=['mae'])\n",
    "\n",
    "model_2.fit(tf.expand_dims(X_train, axis=1),y_train, epochs=100)"
   ],
   "metadata": {
    "collapsed": false,
    "ExecuteTime": {
     "start_time": "2023-04-10T20:07:57.807179Z",
     "end_time": "2023-04-10T20:07:58.234411Z"
    }
   }
  },
  {
   "cell_type": "code",
   "execution_count": 13,
   "outputs": [
    {
     "name": "stdout",
     "output_type": "stream",
     "text": [
      "1/1 [==============================] - 0s 67ms/step - loss: 18.3834 - mae: 18.3834\n"
     ]
    },
    {
     "data": {
      "text/plain": "[18.383403778076172, 18.383403778076172]"
     },
     "execution_count": 13,
     "metadata": {},
     "output_type": "execute_result"
    }
   ],
   "source": [
    "model_1.evaluate(tf.expand_dims(X_test, axis=1),y_test)"
   ],
   "metadata": {
    "collapsed": false,
    "ExecuteTime": {
     "start_time": "2023-04-10T20:08:23.816183Z",
     "end_time": "2023-04-10T20:08:23.916431Z"
    }
   }
  },
  {
   "cell_type": "code",
   "execution_count": 14,
   "outputs": [
    {
     "name": "stdout",
     "output_type": "stream",
     "text": [
      "1/1 [==============================] - 0s 37ms/step - loss: 9.3135 - mae: 9.3135\n"
     ]
    },
    {
     "data": {
      "text/plain": "[9.313505172729492, 9.313505172729492]"
     },
     "execution_count": 14,
     "metadata": {},
     "output_type": "execute_result"
    }
   ],
   "source": [
    "model_2.evaluate(tf.expand_dims(X_test, axis=1),y_test)"
   ],
   "metadata": {
    "collapsed": false,
    "ExecuteTime": {
     "start_time": "2023-04-10T20:08:28.750170Z",
     "end_time": "2023-04-10T20:08:28.801579Z"
    }
   }
  },
  {
   "cell_type": "code",
   "execution_count": 15,
   "outputs": [],
   "source": [
    "import pandas as pd\n"
   ],
   "metadata": {
    "collapsed": false,
    "ExecuteTime": {
     "start_time": "2023-04-10T20:11:36.409535Z",
     "end_time": "2023-04-10T20:11:36.424135Z"
    }
   }
  },
  {
   "cell_type": "code",
   "execution_count": 16,
   "outputs": [
    {
     "data": {
      "text/plain": "      age     sex     bmi  children smoker     region      charges\n0      19  female  27.900         0    yes  southwest  16884.92400\n1      18    male  33.770         1     no  southeast   1725.55230\n2      28    male  33.000         3     no  southeast   4449.46200\n3      33    male  22.705         0     no  northwest  21984.47061\n4      32    male  28.880         0     no  northwest   3866.85520\n...   ...     ...     ...       ...    ...        ...          ...\n1333   50    male  30.970         3     no  northwest  10600.54830\n1334   18  female  31.920         0     no  northeast   2205.98080\n1335   18  female  36.850         0     no  southeast   1629.83350\n1336   21  female  25.800         0     no  southwest   2007.94500\n1337   61  female  29.070         0    yes  northwest  29141.36030\n\n[1338 rows x 7 columns]",
      "text/html": "<div>\n<style scoped>\n    .dataframe tbody tr th:only-of-type {\n        vertical-align: middle;\n    }\n\n    .dataframe tbody tr th {\n        vertical-align: top;\n    }\n\n    .dataframe thead th {\n        text-align: right;\n    }\n</style>\n<table border=\"1\" class=\"dataframe\">\n  <thead>\n    <tr style=\"text-align: right;\">\n      <th></th>\n      <th>age</th>\n      <th>sex</th>\n      <th>bmi</th>\n      <th>children</th>\n      <th>smoker</th>\n      <th>region</th>\n      <th>charges</th>\n    </tr>\n  </thead>\n  <tbody>\n    <tr>\n      <th>0</th>\n      <td>19</td>\n      <td>female</td>\n      <td>27.900</td>\n      <td>0</td>\n      <td>yes</td>\n      <td>southwest</td>\n      <td>16884.92400</td>\n    </tr>\n    <tr>\n      <th>1</th>\n      <td>18</td>\n      <td>male</td>\n      <td>33.770</td>\n      <td>1</td>\n      <td>no</td>\n      <td>southeast</td>\n      <td>1725.55230</td>\n    </tr>\n    <tr>\n      <th>2</th>\n      <td>28</td>\n      <td>male</td>\n      <td>33.000</td>\n      <td>3</td>\n      <td>no</td>\n      <td>southeast</td>\n      <td>4449.46200</td>\n    </tr>\n    <tr>\n      <th>3</th>\n      <td>33</td>\n      <td>male</td>\n      <td>22.705</td>\n      <td>0</td>\n      <td>no</td>\n      <td>northwest</td>\n      <td>21984.47061</td>\n    </tr>\n    <tr>\n      <th>4</th>\n      <td>32</td>\n      <td>male</td>\n      <td>28.880</td>\n      <td>0</td>\n      <td>no</td>\n      <td>northwest</td>\n      <td>3866.85520</td>\n    </tr>\n    <tr>\n      <th>...</th>\n      <td>...</td>\n      <td>...</td>\n      <td>...</td>\n      <td>...</td>\n      <td>...</td>\n      <td>...</td>\n      <td>...</td>\n    </tr>\n    <tr>\n      <th>1333</th>\n      <td>50</td>\n      <td>male</td>\n      <td>30.970</td>\n      <td>3</td>\n      <td>no</td>\n      <td>northwest</td>\n      <td>10600.54830</td>\n    </tr>\n    <tr>\n      <th>1334</th>\n      <td>18</td>\n      <td>female</td>\n      <td>31.920</td>\n      <td>0</td>\n      <td>no</td>\n      <td>northeast</td>\n      <td>2205.98080</td>\n    </tr>\n    <tr>\n      <th>1335</th>\n      <td>18</td>\n      <td>female</td>\n      <td>36.850</td>\n      <td>0</td>\n      <td>no</td>\n      <td>southeast</td>\n      <td>1629.83350</td>\n    </tr>\n    <tr>\n      <th>1336</th>\n      <td>21</td>\n      <td>female</td>\n      <td>25.800</td>\n      <td>0</td>\n      <td>no</td>\n      <td>southwest</td>\n      <td>2007.94500</td>\n    </tr>\n    <tr>\n      <th>1337</th>\n      <td>61</td>\n      <td>female</td>\n      <td>29.070</td>\n      <td>0</td>\n      <td>yes</td>\n      <td>northwest</td>\n      <td>29141.36030</td>\n    </tr>\n  </tbody>\n</table>\n<p>1338 rows × 7 columns</p>\n</div>"
     },
     "execution_count": 16,
     "metadata": {},
     "output_type": "execute_result"
    }
   ],
   "source": [
    "insurance = pd.read_csv(\"https://raw.githubusercontent.com/stedy/Machine-Learning-with-R-datasets/master/insurance.csv\")\n",
    "insurance"
   ],
   "metadata": {
    "collapsed": false,
    "ExecuteTime": {
     "start_time": "2023-04-10T20:11:55.757465Z",
     "end_time": "2023-04-10T20:11:56.075374Z"
    }
   }
  },
  {
   "cell_type": "code",
   "execution_count": 17,
   "outputs": [
    {
     "data": {
      "text/plain": "age         0\nsex         0\nbmi         0\nchildren    0\nsmoker      0\nregion      0\ncharges     0\ndtype: int64"
     },
     "execution_count": 17,
     "metadata": {},
     "output_type": "execute_result"
    }
   ],
   "source": [
    "insurance.isna().sum()"
   ],
   "metadata": {
    "collapsed": false,
    "ExecuteTime": {
     "start_time": "2023-04-10T20:12:44.222564Z",
     "end_time": "2023-04-10T20:12:44.227197Z"
    }
   }
  },
  {
   "cell_type": "code",
   "execution_count": 18,
   "outputs": [
    {
     "data": {
      "text/plain": "      age     bmi  children      charges  sex_female  sex_male  smoker_no  \\\n0      19  27.900         0  16884.92400           1         0          0   \n1      18  33.770         1   1725.55230           0         1          1   \n2      28  33.000         3   4449.46200           0         1          1   \n3      33  22.705         0  21984.47061           0         1          1   \n4      32  28.880         0   3866.85520           0         1          1   \n...   ...     ...       ...          ...         ...       ...        ...   \n1333   50  30.970         3  10600.54830           0         1          1   \n1334   18  31.920         0   2205.98080           1         0          1   \n1335   18  36.850         0   1629.83350           1         0          1   \n1336   21  25.800         0   2007.94500           1         0          1   \n1337   61  29.070         0  29141.36030           1         0          0   \n\n      smoker_yes  region_northeast  region_northwest  region_southeast  \\\n0              1                 0                 0                 0   \n1              0                 0                 0                 1   \n2              0                 0                 0                 1   \n3              0                 0                 1                 0   \n4              0                 0                 1                 0   \n...          ...               ...               ...               ...   \n1333           0                 0                 1                 0   \n1334           0                 1                 0                 0   \n1335           0                 0                 0                 1   \n1336           0                 0                 0                 0   \n1337           1                 0                 1                 0   \n\n      region_southwest  \n0                    1  \n1                    0  \n2                    0  \n3                    0  \n4                    0  \n...                ...  \n1333                 0  \n1334                 0  \n1335                 0  \n1336                 1  \n1337                 0  \n\n[1338 rows x 12 columns]",
      "text/html": "<div>\n<style scoped>\n    .dataframe tbody tr th:only-of-type {\n        vertical-align: middle;\n    }\n\n    .dataframe tbody tr th {\n        vertical-align: top;\n    }\n\n    .dataframe thead th {\n        text-align: right;\n    }\n</style>\n<table border=\"1\" class=\"dataframe\">\n  <thead>\n    <tr style=\"text-align: right;\">\n      <th></th>\n      <th>age</th>\n      <th>bmi</th>\n      <th>children</th>\n      <th>charges</th>\n      <th>sex_female</th>\n      <th>sex_male</th>\n      <th>smoker_no</th>\n      <th>smoker_yes</th>\n      <th>region_northeast</th>\n      <th>region_northwest</th>\n      <th>region_southeast</th>\n      <th>region_southwest</th>\n    </tr>\n  </thead>\n  <tbody>\n    <tr>\n      <th>0</th>\n      <td>19</td>\n      <td>27.900</td>\n      <td>0</td>\n      <td>16884.92400</td>\n      <td>1</td>\n      <td>0</td>\n      <td>0</td>\n      <td>1</td>\n      <td>0</td>\n      <td>0</td>\n      <td>0</td>\n      <td>1</td>\n    </tr>\n    <tr>\n      <th>1</th>\n      <td>18</td>\n      <td>33.770</td>\n      <td>1</td>\n      <td>1725.55230</td>\n      <td>0</td>\n      <td>1</td>\n      <td>1</td>\n      <td>0</td>\n      <td>0</td>\n      <td>0</td>\n      <td>1</td>\n      <td>0</td>\n    </tr>\n    <tr>\n      <th>2</th>\n      <td>28</td>\n      <td>33.000</td>\n      <td>3</td>\n      <td>4449.46200</td>\n      <td>0</td>\n      <td>1</td>\n      <td>1</td>\n      <td>0</td>\n      <td>0</td>\n      <td>0</td>\n      <td>1</td>\n      <td>0</td>\n    </tr>\n    <tr>\n      <th>3</th>\n      <td>33</td>\n      <td>22.705</td>\n      <td>0</td>\n      <td>21984.47061</td>\n      <td>0</td>\n      <td>1</td>\n      <td>1</td>\n      <td>0</td>\n      <td>0</td>\n      <td>1</td>\n      <td>0</td>\n      <td>0</td>\n    </tr>\n    <tr>\n      <th>4</th>\n      <td>32</td>\n      <td>28.880</td>\n      <td>0</td>\n      <td>3866.85520</td>\n      <td>0</td>\n      <td>1</td>\n      <td>1</td>\n      <td>0</td>\n      <td>0</td>\n      <td>1</td>\n      <td>0</td>\n      <td>0</td>\n    </tr>\n    <tr>\n      <th>...</th>\n      <td>...</td>\n      <td>...</td>\n      <td>...</td>\n      <td>...</td>\n      <td>...</td>\n      <td>...</td>\n      <td>...</td>\n      <td>...</td>\n      <td>...</td>\n      <td>...</td>\n      <td>...</td>\n      <td>...</td>\n    </tr>\n    <tr>\n      <th>1333</th>\n      <td>50</td>\n      <td>30.970</td>\n      <td>3</td>\n      <td>10600.54830</td>\n      <td>0</td>\n      <td>1</td>\n      <td>1</td>\n      <td>0</td>\n      <td>0</td>\n      <td>1</td>\n      <td>0</td>\n      <td>0</td>\n    </tr>\n    <tr>\n      <th>1334</th>\n      <td>18</td>\n      <td>31.920</td>\n      <td>0</td>\n      <td>2205.98080</td>\n      <td>1</td>\n      <td>0</td>\n      <td>1</td>\n      <td>0</td>\n      <td>1</td>\n      <td>0</td>\n      <td>0</td>\n      <td>0</td>\n    </tr>\n    <tr>\n      <th>1335</th>\n      <td>18</td>\n      <td>36.850</td>\n      <td>0</td>\n      <td>1629.83350</td>\n      <td>1</td>\n      <td>0</td>\n      <td>1</td>\n      <td>0</td>\n      <td>0</td>\n      <td>0</td>\n      <td>1</td>\n      <td>0</td>\n    </tr>\n    <tr>\n      <th>1336</th>\n      <td>21</td>\n      <td>25.800</td>\n      <td>0</td>\n      <td>2007.94500</td>\n      <td>1</td>\n      <td>0</td>\n      <td>1</td>\n      <td>0</td>\n      <td>0</td>\n      <td>0</td>\n      <td>0</td>\n      <td>1</td>\n    </tr>\n    <tr>\n      <th>1337</th>\n      <td>61</td>\n      <td>29.070</td>\n      <td>0</td>\n      <td>29141.36030</td>\n      <td>1</td>\n      <td>0</td>\n      <td>0</td>\n      <td>1</td>\n      <td>0</td>\n      <td>1</td>\n      <td>0</td>\n      <td>0</td>\n    </tr>\n  </tbody>\n</table>\n<p>1338 rows × 12 columns</p>\n</div>"
     },
     "execution_count": 18,
     "metadata": {},
     "output_type": "execute_result"
    }
   ],
   "source": [
    "insurance_one_hot = pd.get_dummies(insurance)\n",
    "insurance_one_hot"
   ],
   "metadata": {
    "collapsed": false,
    "ExecuteTime": {
     "start_time": "2023-04-10T20:14:15.797426Z",
     "end_time": "2023-04-10T20:14:15.815175Z"
    }
   }
  },
  {
   "cell_type": "code",
   "execution_count": 19,
   "outputs": [],
   "source": [
    "X=insurance_one_hot.drop('charges', axis=1)\n",
    "y=insurance_one_hot['charges']"
   ],
   "metadata": {
    "collapsed": false,
    "ExecuteTime": {
     "start_time": "2023-04-10T20:15:25.621106Z",
     "end_time": "2023-04-10T20:15:25.623309Z"
    }
   }
  },
  {
   "cell_type": "code",
   "execution_count": 20,
   "outputs": [],
   "source": [
    "from sklearn.model_selection import train_test_split\n",
    "X_train, X_test, y_train, y_test = train_test_split(X,y,test_size=0.2, random_state=42)"
   ],
   "metadata": {
    "collapsed": false,
    "ExecuteTime": {
     "start_time": "2023-04-10T20:15:44.993368Z",
     "end_time": "2023-04-10T20:15:45.146955Z"
    }
   }
  },
  {
   "cell_type": "code",
   "execution_count": 21,
   "outputs": [
    {
     "name": "stdout",
     "output_type": "stream",
     "text": [
      "Epoch 1/100\n",
      "34/34 [==============================] - 0s 435us/step - loss: 13335.0508 - mae: 13335.0508\n",
      "Epoch 2/100\n",
      "34/34 [==============================] - 0s 367us/step - loss: 13325.4688 - mae: 13325.4688\n",
      "Epoch 3/100\n",
      "34/34 [==============================] - 0s 337us/step - loss: 13313.1895 - mae: 13313.1895\n",
      "Epoch 4/100\n",
      "34/34 [==============================] - 0s 323us/step - loss: 13296.0498 - mae: 13296.0498\n",
      "Epoch 5/100\n",
      "34/34 [==============================] - 0s 398us/step - loss: 13271.1445 - mae: 13271.1445\n",
      "Epoch 6/100\n",
      "34/34 [==============================] - 0s 371us/step - loss: 13234.7021 - mae: 13234.7021\n",
      "Epoch 7/100\n",
      "34/34 [==============================] - 0s 370us/step - loss: 13182.8154 - mae: 13182.8154\n",
      "Epoch 8/100\n",
      "34/34 [==============================] - 0s 363us/step - loss: 13110.5117 - mae: 13110.5117\n",
      "Epoch 9/100\n",
      "34/34 [==============================] - 0s 335us/step - loss: 13011.1367 - mae: 13011.1367\n",
      "Epoch 10/100\n",
      "34/34 [==============================] - 0s 347us/step - loss: 12877.6357 - mae: 12877.6357\n",
      "Epoch 11/100\n",
      "34/34 [==============================] - 0s 384us/step - loss: 12702.1104 - mae: 12702.1104\n",
      "Epoch 12/100\n",
      "34/34 [==============================] - 0s 307us/step - loss: 12476.6387 - mae: 12476.6387\n",
      "Epoch 13/100\n",
      "34/34 [==============================] - 0s 324us/step - loss: 12194.2969 - mae: 12194.2969\n",
      "Epoch 14/100\n",
      "34/34 [==============================] - 0s 316us/step - loss: 11847.3730 - mae: 11847.3730\n",
      "Epoch 15/100\n",
      "34/34 [==============================] - 0s 313us/step - loss: 11434.1807 - mae: 11434.1807\n",
      "Epoch 16/100\n",
      "34/34 [==============================] - 0s 463us/step - loss: 10955.4775 - mae: 10955.4775\n",
      "Epoch 17/100\n",
      "34/34 [==============================] - 0s 543us/step - loss: 10437.9561 - mae: 10437.9561\n",
      "Epoch 18/100\n",
      "34/34 [==============================] - 0s 969us/step - loss: 9908.2197 - mae: 9908.2197\n",
      "Epoch 19/100\n",
      "34/34 [==============================] - 0s 370us/step - loss: 9366.8867 - mae: 9366.8867\n",
      "Epoch 20/100\n",
      "34/34 [==============================] - 0s 373us/step - loss: 8848.4580 - mae: 8848.4580\n",
      "Epoch 21/100\n",
      "34/34 [==============================] - 0s 356us/step - loss: 8385.9629 - mae: 8385.9629\n",
      "Epoch 22/100\n",
      "34/34 [==============================] - 0s 338us/step - loss: 8005.8423 - mae: 8005.8423\n",
      "Epoch 23/100\n",
      "34/34 [==============================] - 0s 314us/step - loss: 7742.2100 - mae: 7742.2100\n",
      "Epoch 24/100\n",
      "34/34 [==============================] - 0s 351us/step - loss: 7580.7949 - mae: 7580.7949\n",
      "Epoch 25/100\n",
      "34/34 [==============================] - 0s 333us/step - loss: 7512.4580 - mae: 7512.4580\n",
      "Epoch 26/100\n",
      "34/34 [==============================] - 0s 384us/step - loss: 7468.8525 - mae: 7468.8525\n",
      "Epoch 27/100\n",
      "34/34 [==============================] - 0s 345us/step - loss: 7450.6450 - mae: 7450.6450\n",
      "Epoch 28/100\n",
      "34/34 [==============================] - 0s 300us/step - loss: 7438.2197 - mae: 7438.2197\n",
      "Epoch 29/100\n",
      "34/34 [==============================] - 0s 341us/step - loss: 7431.3677 - mae: 7431.3677\n",
      "Epoch 30/100\n",
      "34/34 [==============================] - 0s 316us/step - loss: 7425.1191 - mae: 7425.1191\n",
      "Epoch 31/100\n",
      "34/34 [==============================] - 0s 329us/step - loss: 7419.3340 - mae: 7419.3340\n",
      "Epoch 32/100\n",
      "34/34 [==============================] - 0s 327us/step - loss: 7414.2124 - mae: 7414.2124\n",
      "Epoch 33/100\n",
      "34/34 [==============================] - 0s 335us/step - loss: 7407.7002 - mae: 7407.7002\n",
      "Epoch 34/100\n",
      "34/34 [==============================] - 0s 323us/step - loss: 7401.4888 - mae: 7401.4888\n",
      "Epoch 35/100\n",
      "34/34 [==============================] - 0s 334us/step - loss: 7395.4253 - mae: 7395.4253\n",
      "Epoch 36/100\n",
      "34/34 [==============================] - 0s 313us/step - loss: 7389.2139 - mae: 7389.2139\n",
      "Epoch 37/100\n",
      "34/34 [==============================] - 0s 329us/step - loss: 7382.8037 - mae: 7382.8037\n",
      "Epoch 38/100\n",
      "34/34 [==============================] - 0s 305us/step - loss: 7377.3882 - mae: 7377.3882\n",
      "Epoch 39/100\n",
      "34/34 [==============================] - 0s 335us/step - loss: 7370.2266 - mae: 7370.2266\n",
      "Epoch 40/100\n",
      "34/34 [==============================] - 0s 316us/step - loss: 7364.1660 - mae: 7364.1660\n",
      "Epoch 41/100\n",
      "34/34 [==============================] - 0s 311us/step - loss: 7358.1387 - mae: 7358.1387\n",
      "Epoch 42/100\n",
      "34/34 [==============================] - 0s 319us/step - loss: 7353.6357 - mae: 7353.6357\n",
      "Epoch 43/100\n",
      "34/34 [==============================] - 0s 317us/step - loss: 7345.8569 - mae: 7345.8569\n",
      "Epoch 44/100\n",
      "34/34 [==============================] - 0s 313us/step - loss: 7339.4727 - mae: 7339.4727\n",
      "Epoch 45/100\n",
      "34/34 [==============================] - 0s 347us/step - loss: 7333.0952 - mae: 7333.0952\n",
      "Epoch 46/100\n",
      "34/34 [==============================] - 0s 318us/step - loss: 7326.6519 - mae: 7326.6519\n",
      "Epoch 47/100\n",
      "34/34 [==============================] - 0s 346us/step - loss: 7323.1484 - mae: 7323.1484\n",
      "Epoch 48/100\n",
      "34/34 [==============================] - 0s 311us/step - loss: 7313.7954 - mae: 7313.7954\n",
      "Epoch 49/100\n",
      "34/34 [==============================] - 0s 343us/step - loss: 7308.5122 - mae: 7308.5122\n",
      "Epoch 50/100\n",
      "34/34 [==============================] - 0s 336us/step - loss: 7300.3359 - mae: 7300.3359\n",
      "Epoch 51/100\n",
      "34/34 [==============================] - 0s 334us/step - loss: 7295.7612 - mae: 7295.7612\n",
      "Epoch 52/100\n",
      "34/34 [==============================] - 0s 328us/step - loss: 7288.4258 - mae: 7288.4258\n",
      "Epoch 53/100\n",
      "34/34 [==============================] - 0s 364us/step - loss: 7281.4556 - mae: 7281.4556\n",
      "Epoch 54/100\n",
      "34/34 [==============================] - 0s 350us/step - loss: 7274.4751 - mae: 7274.4751\n",
      "Epoch 55/100\n",
      "34/34 [==============================] - 0s 377us/step - loss: 7267.8716 - mae: 7267.8716\n",
      "Epoch 56/100\n",
      "34/34 [==============================] - 0s 322us/step - loss: 7261.2329 - mae: 7261.2329\n",
      "Epoch 57/100\n",
      "34/34 [==============================] - 0s 304us/step - loss: 7254.5381 - mae: 7254.5381\n",
      "Epoch 58/100\n",
      "34/34 [==============================] - 0s 313us/step - loss: 7247.6812 - mae: 7247.6812\n",
      "Epoch 59/100\n",
      "34/34 [==============================] - 0s 303us/step - loss: 7242.9048 - mae: 7242.9048\n",
      "Epoch 60/100\n",
      "34/34 [==============================] - 0s 314us/step - loss: 7234.5361 - mae: 7234.5361\n",
      "Epoch 61/100\n",
      "34/34 [==============================] - 0s 331us/step - loss: 7227.9351 - mae: 7227.9351\n",
      "Epoch 62/100\n",
      "34/34 [==============================] - 0s 310us/step - loss: 7220.5488 - mae: 7220.5488\n",
      "Epoch 63/100\n",
      "34/34 [==============================] - 0s 346us/step - loss: 7213.9043 - mae: 7213.9043\n",
      "Epoch 64/100\n",
      "34/34 [==============================] - 0s 307us/step - loss: 7207.1045 - mae: 7207.1045\n",
      "Epoch 65/100\n",
      "34/34 [==============================] - 0s 322us/step - loss: 7200.2661 - mae: 7200.2661\n",
      "Epoch 66/100\n",
      "34/34 [==============================] - 0s 318us/step - loss: 7192.7720 - mae: 7192.7720\n",
      "Epoch 67/100\n",
      "34/34 [==============================] - 0s 298us/step - loss: 7186.5493 - mae: 7186.5493\n",
      "Epoch 68/100\n",
      "34/34 [==============================] - 0s 347us/step - loss: 7179.1147 - mae: 7179.1147\n",
      "Epoch 69/100\n",
      "34/34 [==============================] - 0s 314us/step - loss: 7171.4907 - mae: 7171.4907\n",
      "Epoch 70/100\n",
      "34/34 [==============================] - 0s 328us/step - loss: 7164.5483 - mae: 7164.5483\n",
      "Epoch 71/100\n",
      "34/34 [==============================] - 0s 301us/step - loss: 7157.0894 - mae: 7157.0894\n",
      "Epoch 72/100\n",
      "34/34 [==============================] - 0s 327us/step - loss: 7150.2061 - mae: 7150.2061\n",
      "Epoch 73/100\n",
      "34/34 [==============================] - 0s 322us/step - loss: 7142.1011 - mae: 7142.1011\n",
      "Epoch 74/100\n",
      "34/34 [==============================] - 0s 317us/step - loss: 7134.8516 - mae: 7134.8516\n",
      "Epoch 75/100\n",
      "34/34 [==============================] - 0s 324us/step - loss: 7126.8188 - mae: 7126.8188\n",
      "Epoch 76/100\n",
      "34/34 [==============================] - 0s 326us/step - loss: 7120.4507 - mae: 7120.4507\n",
      "Epoch 77/100\n",
      "34/34 [==============================] - 0s 308us/step - loss: 7111.5254 - mae: 7111.5254\n",
      "Epoch 78/100\n",
      "34/34 [==============================] - 0s 350us/step - loss: 7104.5298 - mae: 7104.5298\n",
      "Epoch 79/100\n",
      "34/34 [==============================] - 0s 306us/step - loss: 7095.9282 - mae: 7095.9282\n",
      "Epoch 80/100\n",
      "34/34 [==============================] - 0s 336us/step - loss: 7087.7715 - mae: 7087.7715\n",
      "Epoch 81/100\n",
      "34/34 [==============================] - 0s 320us/step - loss: 7079.8862 - mae: 7079.8862\n",
      "Epoch 82/100\n",
      "34/34 [==============================] - 0s 317us/step - loss: 7073.9287 - mae: 7073.9287\n",
      "Epoch 83/100\n",
      "34/34 [==============================] - 0s 324us/step - loss: 7065.6836 - mae: 7065.6836\n",
      "Epoch 84/100\n",
      "34/34 [==============================] - 0s 323us/step - loss: 7056.4741 - mae: 7056.4741\n",
      "Epoch 85/100\n",
      "34/34 [==============================] - 0s 307us/step - loss: 7049.5171 - mae: 7049.5171\n",
      "Epoch 86/100\n",
      "34/34 [==============================] - 0s 329us/step - loss: 7040.9380 - mae: 7040.9380\n",
      "Epoch 87/100\n",
      "34/34 [==============================] - 0s 300us/step - loss: 7032.5444 - mae: 7032.5444\n",
      "Epoch 88/100\n",
      "34/34 [==============================] - 0s 384us/step - loss: 7024.4727 - mae: 7024.4727\n",
      "Epoch 89/100\n",
      "34/34 [==============================] - 0s 324us/step - loss: 7015.3774 - mae: 7015.3774\n",
      "Epoch 90/100\n",
      "34/34 [==============================] - 0s 323us/step - loss: 7008.0234 - mae: 7008.0234\n",
      "Epoch 91/100\n",
      "34/34 [==============================] - 0s 335us/step - loss: 6998.7144 - mae: 6998.7144\n",
      "Epoch 92/100\n",
      "34/34 [==============================] - 0s 321us/step - loss: 6991.0298 - mae: 6991.0298\n",
      "Epoch 93/100\n",
      "34/34 [==============================] - 0s 313us/step - loss: 6982.2822 - mae: 6982.2822\n",
      "Epoch 94/100\n",
      "34/34 [==============================] - 0s 354us/step - loss: 6974.2676 - mae: 6974.2676\n",
      "Epoch 95/100\n",
      "34/34 [==============================] - 0s 307us/step - loss: 6964.8394 - mae: 6964.8394\n",
      "Epoch 96/100\n",
      "34/34 [==============================] - 0s 356us/step - loss: 6956.0781 - mae: 6956.0781\n",
      "Epoch 97/100\n",
      "34/34 [==============================] - 0s 328us/step - loss: 6948.2207 - mae: 6948.2207\n",
      "Epoch 98/100\n",
      "34/34 [==============================] - 0s 341us/step - loss: 6937.5894 - mae: 6937.5894\n",
      "Epoch 99/100\n",
      "34/34 [==============================] - 0s 328us/step - loss: 6928.5557 - mae: 6928.5557\n",
      "Epoch 100/100\n",
      "34/34 [==============================] - 0s 310us/step - loss: 6918.9604 - mae: 6918.9604\n"
     ]
    },
    {
     "data": {
      "text/plain": "<keras.callbacks.History at 0x118784ca0>"
     },
     "execution_count": 21,
     "metadata": {},
     "output_type": "execute_result"
    }
   ],
   "source": [
    "tf.random.set_seed(42)\n",
    "\n",
    "model_3 = tf.keras.Sequential([\n",
    "    tf.keras.layers.Dense(10),\n",
    "    tf.keras.layers.Dense(1),\n",
    "    tf.keras.layers.Dense(1),\n",
    "    tf.keras.layers.Dense(1)\n",
    "])\n",
    "\n",
    "model_3.compile(loss='mae',\n",
    "                optimizer='Adam',\n",
    "                metrics=['mae'])\n",
    "\n",
    "model_3.fit(X_train,y_train, epochs=100)"
   ],
   "metadata": {
    "collapsed": false,
    "ExecuteTime": {
     "start_time": "2023-04-10T20:17:28.956720Z",
     "end_time": "2023-04-10T20:17:30.429409Z"
    }
   }
  },
  {
   "cell_type": "code",
   "execution_count": 22,
   "outputs": [
    {
     "name": "stdout",
     "output_type": "stream",
     "text": [
      "9/9 [==============================] - 0s 418us/step - loss: 6925.6221 - mae: 6925.6221\n"
     ]
    },
    {
     "data": {
      "text/plain": "[6925.6220703125, 6925.6220703125]"
     },
     "execution_count": 22,
     "metadata": {},
     "output_type": "execute_result"
    }
   ],
   "source": [
    "model_3.evaluate(X_test,y_test)"
   ],
   "metadata": {
    "collapsed": false,
    "ExecuteTime": {
     "start_time": "2023-04-10T20:17:46.596655Z",
     "end_time": "2023-04-10T20:17:46.679034Z"
    }
   }
  },
  {
   "cell_type": "code",
   "execution_count": 23,
   "outputs": [
    {
     "name": "stdout",
     "output_type": "stream",
     "text": [
      "Epoch 1/100\n",
      "34/34 [==============================] - 0s 485us/step - loss: 13309.6914 - mae: 13309.6914\n",
      "Epoch 2/100\n",
      "34/34 [==============================] - 0s 353us/step - loss: 13070.9863 - mae: 13070.9863\n",
      "Epoch 3/100\n",
      "34/34 [==============================] - 0s 370us/step - loss: 12221.1318 - mae: 12221.1318\n",
      "Epoch 4/100\n",
      "34/34 [==============================] - 0s 373us/step - loss: 10062.2764 - mae: 10062.2764\n",
      "Epoch 5/100\n",
      "34/34 [==============================] - 0s 379us/step - loss: 7729.5181 - mae: 7729.5181\n",
      "Epoch 6/100\n",
      "34/34 [==============================] - 0s 390us/step - loss: 7393.5381 - mae: 7393.5381\n",
      "Epoch 7/100\n",
      "34/34 [==============================] - 0s 358us/step - loss: 7352.4224 - mae: 7352.4224\n",
      "Epoch 8/100\n",
      "34/34 [==============================] - 0s 336us/step - loss: 7316.5488 - mae: 7316.5488\n",
      "Epoch 9/100\n",
      "34/34 [==============================] - 0s 402us/step - loss: 7280.3013 - mae: 7280.3013\n",
      "Epoch 10/100\n",
      "34/34 [==============================] - 0s 380us/step - loss: 7244.5132 - mae: 7244.5132\n",
      "Epoch 11/100\n",
      "34/34 [==============================] - 0s 555us/step - loss: 7210.6636 - mae: 7210.6636\n",
      "Epoch 12/100\n",
      "34/34 [==============================] - 0s 346us/step - loss: 7166.3755 - mae: 7166.3755\n",
      "Epoch 13/100\n",
      "34/34 [==============================] - 0s 331us/step - loss: 7123.6025 - mae: 7123.6025\n",
      "Epoch 14/100\n",
      "34/34 [==============================] - 0s 357us/step - loss: 7078.5239 - mae: 7078.5239\n",
      "Epoch 15/100\n",
      "34/34 [==============================] - 0s 339us/step - loss: 7037.3965 - mae: 7037.3965\n",
      "Epoch 16/100\n",
      "34/34 [==============================] - 0s 395us/step - loss: 6987.0977 - mae: 6987.0977\n",
      "Epoch 17/100\n",
      "34/34 [==============================] - 0s 524us/step - loss: 6943.8813 - mae: 6943.8813\n",
      "Epoch 18/100\n",
      "34/34 [==============================] - 0s 747us/step - loss: 6885.2500 - mae: 6885.2500\n",
      "Epoch 19/100\n",
      "34/34 [==============================] - 0s 427us/step - loss: 6831.9946 - mae: 6831.9946\n",
      "Epoch 20/100\n",
      "34/34 [==============================] - 0s 400us/step - loss: 6772.5527 - mae: 6772.5527\n",
      "Epoch 21/100\n",
      "34/34 [==============================] - 0s 356us/step - loss: 6715.3325 - mae: 6715.3325\n",
      "Epoch 22/100\n",
      "34/34 [==============================] - 0s 378us/step - loss: 6664.2920 - mae: 6664.2920\n",
      "Epoch 23/100\n",
      "34/34 [==============================] - 0s 336us/step - loss: 6603.0640 - mae: 6603.0640\n",
      "Epoch 24/100\n",
      "34/34 [==============================] - 0s 325us/step - loss: 6562.1987 - mae: 6562.1987\n",
      "Epoch 25/100\n",
      "34/34 [==============================] - 0s 340us/step - loss: 6521.9629 - mae: 6521.9629\n",
      "Epoch 26/100\n",
      "34/34 [==============================] - 0s 351us/step - loss: 6502.3726 - mae: 6502.3726\n",
      "Epoch 27/100\n",
      "34/34 [==============================] - 0s 352us/step - loss: 6481.3105 - mae: 6481.3105\n",
      "Epoch 28/100\n",
      "34/34 [==============================] - 0s 337us/step - loss: 6458.3789 - mae: 6458.3789\n",
      "Epoch 29/100\n",
      "34/34 [==============================] - 0s 349us/step - loss: 6436.1514 - mae: 6436.1514\n",
      "Epoch 30/100\n",
      "34/34 [==============================] - 0s 338us/step - loss: 6421.0923 - mae: 6421.0923\n",
      "Epoch 31/100\n",
      "34/34 [==============================] - 0s 340us/step - loss: 6394.5527 - mae: 6394.5527\n",
      "Epoch 32/100\n",
      "34/34 [==============================] - 0s 329us/step - loss: 6373.7788 - mae: 6373.7788\n",
      "Epoch 33/100\n",
      "34/34 [==============================] - 0s 345us/step - loss: 6349.7451 - mae: 6349.7451\n",
      "Epoch 34/100\n",
      "34/34 [==============================] - 0s 338us/step - loss: 6331.2969 - mae: 6331.2969\n",
      "Epoch 35/100\n",
      "34/34 [==============================] - 0s 351us/step - loss: 6306.4800 - mae: 6306.4800\n",
      "Epoch 36/100\n",
      "34/34 [==============================] - 0s 341us/step - loss: 6278.9194 - mae: 6278.9194\n",
      "Epoch 37/100\n",
      "34/34 [==============================] - 0s 338us/step - loss: 6252.1460 - mae: 6252.1460\n",
      "Epoch 38/100\n",
      "34/34 [==============================] - 0s 328us/step - loss: 6224.5093 - mae: 6224.5093\n",
      "Epoch 39/100\n",
      "34/34 [==============================] - 0s 338us/step - loss: 6202.6865 - mae: 6202.6865\n",
      "Epoch 40/100\n",
      "34/34 [==============================] - 0s 330us/step - loss: 6163.7588 - mae: 6163.7588\n",
      "Epoch 41/100\n",
      "34/34 [==============================] - 0s 336us/step - loss: 6131.9678 - mae: 6131.9678\n",
      "Epoch 42/100\n",
      "34/34 [==============================] - 0s 342us/step - loss: 6093.7227 - mae: 6093.7227\n",
      "Epoch 43/100\n",
      "34/34 [==============================] - 0s 346us/step - loss: 6063.8218 - mae: 6063.8218\n",
      "Epoch 44/100\n",
      "34/34 [==============================] - 0s 324us/step - loss: 6016.0508 - mae: 6016.0508\n",
      "Epoch 45/100\n",
      "34/34 [==============================] - 0s 363us/step - loss: 5976.3916 - mae: 5976.3916\n",
      "Epoch 46/100\n",
      "34/34 [==============================] - 0s 334us/step - loss: 5946.3267 - mae: 5946.3267\n",
      "Epoch 47/100\n",
      "34/34 [==============================] - 0s 480us/step - loss: 5882.1357 - mae: 5882.1357\n",
      "Epoch 48/100\n",
      "34/34 [==============================] - 0s 358us/step - loss: 5823.4844 - mae: 5823.4844\n",
      "Epoch 49/100\n",
      "34/34 [==============================] - 0s 377us/step - loss: 5761.3535 - mae: 5761.3535\n",
      "Epoch 50/100\n",
      "34/34 [==============================] - 0s 359us/step - loss: 5696.3687 - mae: 5696.3687\n",
      "Epoch 51/100\n",
      "34/34 [==============================] - 0s 338us/step - loss: 5621.0586 - mae: 5621.0586\n",
      "Epoch 52/100\n",
      "34/34 [==============================] - 0s 377us/step - loss: 5537.5361 - mae: 5537.5361\n",
      "Epoch 53/100\n",
      "34/34 [==============================] - 0s 360us/step - loss: 5443.5488 - mae: 5443.5488\n",
      "Epoch 54/100\n",
      "34/34 [==============================] - 0s 349us/step - loss: 5335.3066 - mae: 5335.3066\n",
      "Epoch 55/100\n",
      "34/34 [==============================] - 0s 365us/step - loss: 5205.5293 - mae: 5205.5293\n",
      "Epoch 56/100\n",
      "34/34 [==============================] - 0s 367us/step - loss: 5072.1196 - mae: 5072.1196\n",
      "Epoch 57/100\n",
      "34/34 [==============================] - 0s 342us/step - loss: 4907.2993 - mae: 4907.2993\n",
      "Epoch 58/100\n",
      "34/34 [==============================] - 0s 383us/step - loss: 4726.3711 - mae: 4726.3711\n",
      "Epoch 59/100\n",
      "34/34 [==============================] - 0s 369us/step - loss: 4491.9263 - mae: 4491.9263\n",
      "Epoch 60/100\n",
      "34/34 [==============================] - 0s 349us/step - loss: 4274.5234 - mae: 4274.5234\n",
      "Epoch 61/100\n",
      "34/34 [==============================] - 0s 377us/step - loss: 4096.1782 - mae: 4096.1782\n",
      "Epoch 62/100\n",
      "34/34 [==============================] - 0s 400us/step - loss: 3987.3921 - mae: 3987.3921\n",
      "Epoch 63/100\n",
      "34/34 [==============================] - 0s 366us/step - loss: 3899.6799 - mae: 3899.6799\n",
      "Epoch 64/100\n",
      "34/34 [==============================] - 0s 358us/step - loss: 3852.4072 - mae: 3852.4072\n",
      "Epoch 65/100\n",
      "34/34 [==============================] - 0s 381us/step - loss: 3829.3030 - mae: 3829.3030\n",
      "Epoch 66/100\n",
      "34/34 [==============================] - 0s 370us/step - loss: 3810.6316 - mae: 3810.6316\n",
      "Epoch 67/100\n",
      "34/34 [==============================] - 0s 675us/step - loss: 3809.4619 - mae: 3809.4619\n",
      "Epoch 68/100\n",
      "34/34 [==============================] - 0s 368us/step - loss: 3814.5107 - mae: 3814.5107\n",
      "Epoch 69/100\n",
      "34/34 [==============================] - 0s 398us/step - loss: 3802.5581 - mae: 3802.5581\n",
      "Epoch 70/100\n",
      "34/34 [==============================] - 0s 386us/step - loss: 3795.1509 - mae: 3795.1509\n",
      "Epoch 71/100\n",
      "34/34 [==============================] - 0s 344us/step - loss: 3784.0637 - mae: 3784.0637\n",
      "Epoch 72/100\n",
      "34/34 [==============================] - 0s 361us/step - loss: 3779.7517 - mae: 3779.7517\n",
      "Epoch 73/100\n",
      "34/34 [==============================] - 0s 408us/step - loss: 3787.3877 - mae: 3787.3877\n",
      "Epoch 74/100\n",
      "34/34 [==============================] - 0s 411us/step - loss: 3793.0393 - mae: 3793.0393\n",
      "Epoch 75/100\n",
      "34/34 [==============================] - 0s 368us/step - loss: 3786.4700 - mae: 3786.4700\n",
      "Epoch 76/100\n",
      "34/34 [==============================] - 0s 364us/step - loss: 3761.8789 - mae: 3761.8789\n",
      "Epoch 77/100\n",
      "34/34 [==============================] - 0s 364us/step - loss: 3778.6587 - mae: 3778.6587\n",
      "Epoch 78/100\n",
      "34/34 [==============================] - 0s 368us/step - loss: 3756.3533 - mae: 3756.3533\n",
      "Epoch 79/100\n",
      "34/34 [==============================] - 0s 345us/step - loss: 3774.8440 - mae: 3774.8440\n",
      "Epoch 80/100\n",
      "34/34 [==============================] - 0s 348us/step - loss: 3767.4851 - mae: 3767.4851\n",
      "Epoch 81/100\n",
      "34/34 [==============================] - 0s 336us/step - loss: 3742.4272 - mae: 3742.4272\n",
      "Epoch 82/100\n",
      "34/34 [==============================] - 0s 333us/step - loss: 3748.8545 - mae: 3748.8545\n",
      "Epoch 83/100\n",
      "34/34 [==============================] - 0s 419us/step - loss: 3746.0166 - mae: 3746.0166\n",
      "Epoch 84/100\n",
      "34/34 [==============================] - 0s 387us/step - loss: 3749.4490 - mae: 3749.4490\n",
      "Epoch 85/100\n",
      "34/34 [==============================] - 0s 364us/step - loss: 3740.1941 - mae: 3740.1941\n",
      "Epoch 86/100\n",
      "34/34 [==============================] - 0s 364us/step - loss: 3729.8376 - mae: 3729.8376\n",
      "Epoch 87/100\n",
      "34/34 [==============================] - 0s 348us/step - loss: 3729.0254 - mae: 3729.0254\n",
      "Epoch 88/100\n",
      "34/34 [==============================] - 0s 341us/step - loss: 3722.5452 - mae: 3722.5452\n",
      "Epoch 89/100\n",
      "34/34 [==============================] - 0s 381us/step - loss: 3727.0605 - mae: 3727.0605\n",
      "Epoch 90/100\n",
      "34/34 [==============================] - 0s 355us/step - loss: 3717.8040 - mae: 3717.8040\n",
      "Epoch 91/100\n",
      "34/34 [==============================] - 0s 369us/step - loss: 3714.8679 - mae: 3714.8679\n",
      "Epoch 92/100\n",
      "34/34 [==============================] - 0s 345us/step - loss: 3725.0439 - mae: 3725.0439\n",
      "Epoch 93/100\n",
      "34/34 [==============================] - 0s 354us/step - loss: 3706.6230 - mae: 3706.6230\n",
      "Epoch 94/100\n",
      "34/34 [==============================] - 0s 353us/step - loss: 3709.7109 - mae: 3709.7109\n",
      "Epoch 95/100\n",
      "34/34 [==============================] - 0s 411us/step - loss: 3703.2974 - mae: 3703.2974\n",
      "Epoch 96/100\n",
      "34/34 [==============================] - 0s 352us/step - loss: 3714.4512 - mae: 3714.4512\n",
      "Epoch 97/100\n",
      "34/34 [==============================] - 0s 360us/step - loss: 3692.5796 - mae: 3692.5796\n",
      "Epoch 98/100\n",
      "34/34 [==============================] - 0s 353us/step - loss: 3698.0513 - mae: 3698.0513\n",
      "Epoch 99/100\n",
      "34/34 [==============================] - 0s 365us/step - loss: 3707.8896 - mae: 3707.8896\n",
      "Epoch 100/100\n",
      "34/34 [==============================] - 0s 339us/step - loss: 3703.2056 - mae: 3703.2056\n"
     ]
    },
    {
     "data": {
      "text/plain": "<keras.callbacks.History at 0x118b035e0>"
     },
     "execution_count": 23,
     "metadata": {},
     "output_type": "execute_result"
    }
   ],
   "source": [
    "model_4 = tf.keras.Sequential([\n",
    "    tf.keras.layers.Dense(100),\n",
    "    tf.keras.layers.Dense(10),\n",
    "    tf.keras.layers.Dense(10),\n",
    "    tf.keras.layers.Dense(1)\n",
    "])\n",
    "\n",
    "model_4.compile(loss='mae',\n",
    "                optimizer='Adam',\n",
    "                metrics=['mae'])\n",
    "\n",
    "model_4.fit(X_train,y_train, epochs=100)\n"
   ],
   "metadata": {
    "collapsed": false,
    "ExecuteTime": {
     "start_time": "2023-04-10T20:18:48.939874Z",
     "end_time": "2023-04-10T20:18:50.489540Z"
    }
   }
  },
  {
   "cell_type": "code",
   "execution_count": 24,
   "outputs": [
    {
     "name": "stdout",
     "output_type": "stream",
     "text": [
      "9/9 [==============================] - 0s 549us/step - loss: 3506.9512 - mae: 3506.9512\n"
     ]
    },
    {
     "data": {
      "text/plain": "[3506.951171875, 3506.951171875]"
     },
     "execution_count": 24,
     "metadata": {},
     "output_type": "execute_result"
    }
   ],
   "source": [
    "model_4.evaluate(X_test,y_test)"
   ],
   "metadata": {
    "collapsed": false,
    "ExecuteTime": {
     "start_time": "2023-04-10T20:19:20.116686Z",
     "end_time": "2023-04-10T20:19:20.198089Z"
    }
   }
  },
  {
   "cell_type": "code",
   "execution_count": 25,
   "outputs": [
    {
     "name": "stdout",
     "output_type": "stream",
     "text": [
      "Downloading data from https://storage.googleapis.com/tensorflow/tf-keras-datasets/boston_housing.npz\n",
      "57026/57026 [==============================] - 0s 1us/step\n"
     ]
    }
   ],
   "source": [
    "(X_train, y_train), (X_test, y_test) = tf.keras.datasets.boston_housing.load_data(path='boston_housing.npz', test_split=0.2, seed=42)\n"
   ],
   "metadata": {
    "collapsed": false,
    "ExecuteTime": {
     "start_time": "2023-04-10T20:20:10.819427Z",
     "end_time": "2023-04-10T20:20:11.022409Z"
    }
   }
  },
  {
   "cell_type": "code",
   "execution_count": 26,
   "outputs": [
    {
     "name": "stdout",
     "output_type": "stream",
     "text": [
      "Epoch 1/100\n",
      "13/13 [==============================] - 0s 544us/step - loss: 37.7315 - mae: 37.7315\n",
      "Epoch 2/100\n",
      "13/13 [==============================] - 0s 424us/step - loss: 14.7571 - mae: 14.7571\n",
      "Epoch 3/100\n",
      "13/13 [==============================] - 0s 394us/step - loss: 9.8026 - mae: 9.8026\n",
      "Epoch 4/100\n",
      "13/13 [==============================] - 0s 405us/step - loss: 7.5306 - mae: 7.5306\n",
      "Epoch 5/100\n",
      "13/13 [==============================] - 0s 364us/step - loss: 6.6121 - mae: 6.6121\n",
      "Epoch 6/100\n",
      "13/13 [==============================] - 0s 393us/step - loss: 6.3290 - mae: 6.3290\n",
      "Epoch 7/100\n",
      "13/13 [==============================] - 0s 380us/step - loss: 6.0683 - mae: 6.0683\n",
      "Epoch 8/100\n",
      "13/13 [==============================] - 0s 363us/step - loss: 6.8454 - mae: 6.8454\n",
      "Epoch 9/100\n",
      "13/13 [==============================] - 0s 357us/step - loss: 6.6170 - mae: 6.6170\n",
      "Epoch 10/100\n",
      "13/13 [==============================] - 0s 409us/step - loss: 6.0989 - mae: 6.0989\n",
      "Epoch 11/100\n",
      "13/13 [==============================] - 0s 350us/step - loss: 6.0387 - mae: 6.0387\n",
      "Epoch 12/100\n",
      "13/13 [==============================] - 0s 363us/step - loss: 5.8730 - mae: 5.8730\n",
      "Epoch 13/100\n",
      "13/13 [==============================] - 0s 406us/step - loss: 5.6832 - mae: 5.6832\n",
      "Epoch 14/100\n",
      "13/13 [==============================] - 0s 359us/step - loss: 5.7027 - mae: 5.7027\n",
      "Epoch 15/100\n",
      "13/13 [==============================] - 0s 360us/step - loss: 6.1522 - mae: 6.1522\n",
      "Epoch 16/100\n",
      "13/13 [==============================] - 0s 360us/step - loss: 6.3530 - mae: 6.3530\n",
      "Epoch 17/100\n",
      "13/13 [==============================] - 0s 364us/step - loss: 5.8097 - mae: 5.8097\n",
      "Epoch 18/100\n",
      "13/13 [==============================] - 0s 345us/step - loss: 5.6377 - mae: 5.6377\n",
      "Epoch 19/100\n",
      "13/13 [==============================] - 0s 378us/step - loss: 5.4015 - mae: 5.4015\n",
      "Epoch 20/100\n",
      "13/13 [==============================] - 0s 360us/step - loss: 5.1500 - mae: 5.1500\n",
      "Epoch 21/100\n",
      "13/13 [==============================] - 0s 388us/step - loss: 5.2547 - mae: 5.2547\n",
      "Epoch 22/100\n",
      "13/13 [==============================] - 0s 404us/step - loss: 5.2563 - mae: 5.2563\n",
      "Epoch 23/100\n",
      "13/13 [==============================] - 0s 413us/step - loss: 5.2908 - mae: 5.2908\n",
      "Epoch 24/100\n",
      "13/13 [==============================] - 0s 395us/step - loss: 5.3994 - mae: 5.3994\n",
      "Epoch 25/100\n",
      "13/13 [==============================] - 0s 386us/step - loss: 5.8623 - mae: 5.8623\n",
      "Epoch 26/100\n",
      "13/13 [==============================] - 0s 363us/step - loss: 5.4387 - mae: 5.4387\n",
      "Epoch 27/100\n",
      "13/13 [==============================] - 0s 408us/step - loss: 6.2295 - mae: 6.2295\n",
      "Epoch 28/100\n",
      "13/13 [==============================] - 0s 373us/step - loss: 6.5219 - mae: 6.5219\n",
      "Epoch 29/100\n",
      "13/13 [==============================] - 0s 507us/step - loss: 6.6118 - mae: 6.6118\n",
      "Epoch 30/100\n",
      "13/13 [==============================] - 0s 491us/step - loss: 5.1156 - mae: 5.1156\n",
      "Epoch 31/100\n",
      "13/13 [==============================] - 0s 494us/step - loss: 5.0656 - mae: 5.0656\n",
      "Epoch 32/100\n",
      "13/13 [==============================] - 0s 410us/step - loss: 4.9549 - mae: 4.9549\n",
      "Epoch 33/100\n",
      "13/13 [==============================] - 0s 422us/step - loss: 4.9262 - mae: 4.9262\n",
      "Epoch 34/100\n",
      "13/13 [==============================] - 0s 388us/step - loss: 5.0332 - mae: 5.0332\n",
      "Epoch 35/100\n",
      "13/13 [==============================] - 0s 434us/step - loss: 4.9790 - mae: 4.9790\n",
      "Epoch 36/100\n",
      "13/13 [==============================] - 0s 410us/step - loss: 4.7502 - mae: 4.7502\n",
      "Epoch 37/100\n",
      "13/13 [==============================] - 0s 379us/step - loss: 5.3354 - mae: 5.3354\n",
      "Epoch 38/100\n",
      "13/13 [==============================] - 0s 454us/step - loss: 5.3156 - mae: 5.3156\n",
      "Epoch 39/100\n",
      "13/13 [==============================] - 0s 439us/step - loss: 5.7288 - mae: 5.7288\n",
      "Epoch 40/100\n",
      "13/13 [==============================] - 0s 419us/step - loss: 5.1378 - mae: 5.1378\n",
      "Epoch 41/100\n",
      "13/13 [==============================] - 0s 393us/step - loss: 5.2144 - mae: 5.2144\n",
      "Epoch 42/100\n",
      "13/13 [==============================] - 0s 409us/step - loss: 5.1837 - mae: 5.1837\n",
      "Epoch 43/100\n",
      "13/13 [==============================] - 0s 448us/step - loss: 4.9136 - mae: 4.9136\n",
      "Epoch 44/100\n",
      "13/13 [==============================] - 0s 400us/step - loss: 4.7210 - mae: 4.7210\n",
      "Epoch 45/100\n",
      "13/13 [==============================] - 0s 391us/step - loss: 5.2534 - mae: 5.2534\n",
      "Epoch 46/100\n",
      "13/13 [==============================] - 0s 450us/step - loss: 5.1636 - mae: 5.1636\n",
      "Epoch 47/100\n",
      "13/13 [==============================] - 0s 455us/step - loss: 4.8225 - mae: 4.8225\n",
      "Epoch 48/100\n",
      "13/13 [==============================] - 0s 395us/step - loss: 5.3475 - mae: 5.3475\n",
      "Epoch 49/100\n",
      "13/13 [==============================] - 0s 381us/step - loss: 4.8253 - mae: 4.8253\n",
      "Epoch 50/100\n",
      "13/13 [==============================] - 0s 382us/step - loss: 5.4278 - mae: 5.4278\n",
      "Epoch 51/100\n",
      "13/13 [==============================] - 0s 378us/step - loss: 5.0983 - mae: 5.0983\n",
      "Epoch 52/100\n",
      "13/13 [==============================] - 0s 368us/step - loss: 5.1180 - mae: 5.1180\n",
      "Epoch 53/100\n",
      "13/13 [==============================] - 0s 375us/step - loss: 4.5809 - mae: 4.5809\n",
      "Epoch 54/100\n",
      "13/13 [==============================] - 0s 403us/step - loss: 4.5197 - mae: 4.5197\n",
      "Epoch 55/100\n",
      "13/13 [==============================] - 0s 341us/step - loss: 4.8514 - mae: 4.8514\n",
      "Epoch 56/100\n",
      "13/13 [==============================] - 0s 373us/step - loss: 4.6340 - mae: 4.6340\n",
      "Epoch 57/100\n",
      "13/13 [==============================] - 0s 431us/step - loss: 5.5415 - mae: 5.5415\n",
      "Epoch 58/100\n",
      "13/13 [==============================] - 0s 418us/step - loss: 4.6646 - mae: 4.6646\n",
      "Epoch 59/100\n",
      "13/13 [==============================] - 0s 401us/step - loss: 4.8728 - mae: 4.8728\n",
      "Epoch 60/100\n",
      "13/13 [==============================] - 0s 401us/step - loss: 5.0911 - mae: 5.0911\n",
      "Epoch 61/100\n",
      "13/13 [==============================] - 0s 403us/step - loss: 6.2251 - mae: 6.2251\n",
      "Epoch 62/100\n",
      "13/13 [==============================] - 0s 379us/step - loss: 4.8471 - mae: 4.8471\n",
      "Epoch 63/100\n",
      "13/13 [==============================] - 0s 401us/step - loss: 4.5635 - mae: 4.5635\n",
      "Epoch 64/100\n",
      "13/13 [==============================] - 0s 379us/step - loss: 4.7951 - mae: 4.7951\n",
      "Epoch 65/100\n",
      "13/13 [==============================] - 0s 388us/step - loss: 4.5898 - mae: 4.5898\n",
      "Epoch 66/100\n",
      "13/13 [==============================] - 0s 382us/step - loss: 4.8404 - mae: 4.8404\n",
      "Epoch 67/100\n",
      "13/13 [==============================] - 0s 393us/step - loss: 5.1172 - mae: 5.1172\n",
      "Epoch 68/100\n",
      "13/13 [==============================] - 0s 386us/step - loss: 4.5598 - mae: 4.5598\n",
      "Epoch 69/100\n",
      "13/13 [==============================] - 0s 382us/step - loss: 4.6405 - mae: 4.6405\n",
      "Epoch 70/100\n",
      "13/13 [==============================] - 0s 391us/step - loss: 4.5628 - mae: 4.5628\n",
      "Epoch 71/100\n",
      "13/13 [==============================] - 0s 402us/step - loss: 4.4398 - mae: 4.4398\n",
      "Epoch 72/100\n",
      "13/13 [==============================] - 0s 383us/step - loss: 4.4088 - mae: 4.4088\n",
      "Epoch 73/100\n",
      "13/13 [==============================] - 0s 397us/step - loss: 4.4760 - mae: 4.4760\n",
      "Epoch 74/100\n",
      "13/13 [==============================] - 0s 382us/step - loss: 4.5109 - mae: 4.5109\n",
      "Epoch 75/100\n",
      "13/13 [==============================] - 0s 387us/step - loss: 4.8374 - mae: 4.8374\n",
      "Epoch 76/100\n",
      "13/13 [==============================] - 0s 404us/step - loss: 4.5953 - mae: 4.5953\n",
      "Epoch 77/100\n",
      "13/13 [==============================] - 0s 410us/step - loss: 4.9991 - mae: 4.9991\n",
      "Epoch 78/100\n",
      "13/13 [==============================] - 0s 380us/step - loss: 5.1851 - mae: 5.1851\n",
      "Epoch 79/100\n",
      "13/13 [==============================] - 0s 380us/step - loss: 4.9672 - mae: 4.9672\n",
      "Epoch 80/100\n",
      "13/13 [==============================] - 0s 415us/step - loss: 5.0939 - mae: 5.0939\n",
      "Epoch 81/100\n",
      "13/13 [==============================] - 0s 411us/step - loss: 5.9501 - mae: 5.9501\n",
      "Epoch 82/100\n",
      "13/13 [==============================] - 0s 378us/step - loss: 5.5521 - mae: 5.5521\n",
      "Epoch 83/100\n",
      "13/13 [==============================] - 0s 410us/step - loss: 4.8599 - mae: 4.8599\n",
      "Epoch 84/100\n",
      "13/13 [==============================] - 0s 425us/step - loss: 4.6749 - mae: 4.6749\n",
      "Epoch 85/100\n",
      "13/13 [==============================] - 0s 405us/step - loss: 4.7826 - mae: 4.7826\n",
      "Epoch 86/100\n",
      "13/13 [==============================] - 0s 393us/step - loss: 4.9715 - mae: 4.9715\n",
      "Epoch 87/100\n",
      "13/13 [==============================] - 0s 402us/step - loss: 4.8792 - mae: 4.8792\n",
      "Epoch 88/100\n",
      "13/13 [==============================] - 0s 383us/step - loss: 4.6388 - mae: 4.6388\n",
      "Epoch 89/100\n",
      "13/13 [==============================] - 0s 396us/step - loss: 4.7413 - mae: 4.7413\n",
      "Epoch 90/100\n",
      "13/13 [==============================] - 0s 397us/step - loss: 4.6953 - mae: 4.6953\n",
      "Epoch 91/100\n",
      "13/13 [==============================] - 0s 392us/step - loss: 5.0467 - mae: 5.0467\n",
      "Epoch 92/100\n",
      "13/13 [==============================] - 0s 384us/step - loss: 4.4989 - mae: 4.4989\n",
      "Epoch 93/100\n",
      "13/13 [==============================] - 0s 392us/step - loss: 4.5070 - mae: 4.5070\n",
      "Epoch 94/100\n",
      "13/13 [==============================] - 0s 387us/step - loss: 4.4131 - mae: 4.4131\n",
      "Epoch 95/100\n",
      "13/13 [==============================] - 0s 384us/step - loss: 4.4915 - mae: 4.4915\n",
      "Epoch 96/100\n",
      "13/13 [==============================] - 0s 401us/step - loss: 5.4187 - mae: 5.4187\n",
      "Epoch 97/100\n",
      "13/13 [==============================] - 0s 390us/step - loss: 4.6968 - mae: 4.6968\n",
      "Epoch 98/100\n",
      "13/13 [==============================] - 0s 404us/step - loss: 4.3566 - mae: 4.3566\n",
      "Epoch 99/100\n",
      "13/13 [==============================] - 0s 392us/step - loss: 4.2176 - mae: 4.2176\n",
      "Epoch 100/100\n",
      "13/13 [==============================] - 0s 396us/step - loss: 4.2276 - mae: 4.2276\n"
     ]
    },
    {
     "data": {
      "text/plain": "<keras.callbacks.History at 0x118ddb5e0>"
     },
     "execution_count": 26,
     "metadata": {},
     "output_type": "execute_result"
    }
   ],
   "source": [
    "tf.random.set_seed(42)\n",
    "\n",
    "model_5 = tf.keras.Sequential([\n",
    "    tf.keras.layers.Dense(100),\n",
    "    tf.keras.layers.Dense(10),\n",
    "    tf.keras.layers.Dense(10),\n",
    "    tf.keras.layers.Dense(1)\n",
    "])\n",
    "\n",
    "model_5.compile(loss='mae',\n",
    "                optimizer='Adam',\n",
    "                metrics=['mae'])\n",
    "\n",
    "model_5.fit(X_train,y_train, epochs=100)"
   ],
   "metadata": {
    "collapsed": false,
    "ExecuteTime": {
     "start_time": "2023-04-10T20:20:26.626559Z",
     "end_time": "2023-04-10T20:20:27.425018Z"
    }
   }
  },
  {
   "cell_type": "code",
   "execution_count": 27,
   "outputs": [
    {
     "name": "stdout",
     "output_type": "stream",
     "text": [
      "4/4 [==============================] - 0s 635us/step - loss: 4.1521 - mae: 4.1521\n"
     ]
    },
    {
     "data": {
      "text/plain": "[4.152142524719238, 4.152142524719238]"
     },
     "execution_count": 27,
     "metadata": {},
     "output_type": "execute_result"
    }
   ],
   "source": [
    "model_5.evaluate(X_test,y_test)"
   ],
   "metadata": {
    "collapsed": false,
    "ExecuteTime": {
     "start_time": "2023-04-10T20:20:38.373812Z",
     "end_time": "2023-04-10T20:20:38.439822Z"
    }
   }
  },
  {
   "cell_type": "code",
   "execution_count": 28,
   "outputs": [
    {
     "name": "stdout",
     "output_type": "stream",
     "text": [
      "Model: \"sequential_7\"\n",
      "_________________________________________________________________\n",
      " Layer (type)                Output Shape              Param #   \n",
      "=================================================================\n",
      " dense_16 (Dense)            (None, 100)               1400      \n",
      "                                                                 \n",
      " dense_17 (Dense)            (None, 10)                1010      \n",
      "                                                                 \n",
      " dense_18 (Dense)            (None, 10)                110       \n",
      "                                                                 \n",
      " dense_19 (Dense)            (None, 1)                 11        \n",
      "                                                                 \n",
      "=================================================================\n",
      "Total params: 2,531\n",
      "Trainable params: 2,531\n",
      "Non-trainable params: 0\n",
      "_________________________________________________________________\n"
     ]
    }
   ],
   "source": [
    "model_5.summary()"
   ],
   "metadata": {
    "collapsed": false,
    "ExecuteTime": {
     "start_time": "2023-04-10T20:20:44.692396Z",
     "end_time": "2023-04-10T20:20:44.700441Z"
    }
   }
  },
  {
   "cell_type": "code",
   "execution_count": null,
   "outputs": [],
   "source": [],
   "metadata": {
    "collapsed": false
   }
  },
  {
   "cell_type": "code",
   "execution_count": null,
   "outputs": [],
   "source": [],
   "metadata": {
    "collapsed": false
   }
  },
  {
   "cell_type": "code",
   "execution_count": null,
   "outputs": [],
   "source": [],
   "metadata": {
    "collapsed": false
   }
  },
  {
   "cell_type": "code",
   "execution_count": null,
   "outputs": [],
   "source": [],
   "metadata": {
    "collapsed": false
   }
  },
  {
   "cell_type": "code",
   "execution_count": null,
   "outputs": [],
   "source": [],
   "metadata": {
    "collapsed": false
   }
  },
  {
   "cell_type": "code",
   "execution_count": null,
   "outputs": [],
   "source": [],
   "metadata": {
    "collapsed": false
   }
  },
  {
   "cell_type": "code",
   "execution_count": null,
   "outputs": [],
   "source": [],
   "metadata": {
    "collapsed": false
   }
  },
  {
   "cell_type": "code",
   "execution_count": null,
   "outputs": [],
   "source": [],
   "metadata": {
    "collapsed": false
   }
  },
  {
   "cell_type": "code",
   "execution_count": null,
   "outputs": [],
   "source": [],
   "metadata": {
    "collapsed": false
   }
  },
  {
   "cell_type": "code",
   "execution_count": null,
   "outputs": [],
   "source": [],
   "metadata": {
    "collapsed": false
   }
  }
 ],
 "metadata": {
  "kernelspec": {
   "display_name": "Python 3",
   "language": "python",
   "name": "python3"
  },
  "language_info": {
   "codemirror_mode": {
    "name": "ipython",
    "version": 2
   },
   "file_extension": ".py",
   "mimetype": "text/x-python",
   "name": "python",
   "nbconvert_exporter": "python",
   "pygments_lexer": "ipython2",
   "version": "2.7.6"
  }
 },
 "nbformat": 4,
 "nbformat_minor": 0
}
